{
 "cells": [
  {
   "cell_type": "markdown",
   "metadata": {},
   "source": [
    "### Supervised learning since we have data to test on?"
   ]
  },
  {
   "cell_type": "code",
   "execution_count": 1,
   "metadata": {},
   "outputs": [],
   "source": [
    "import pandas as pd\n",
    "import numpy as np"
   ]
  },
  {
   "cell_type": "code",
   "execution_count": 2,
   "metadata": {},
   "outputs": [],
   "source": [
    "apple = pd.read_csv('apple.csv')\n",
    "apple = apple[apple.columns[1:]]"
   ]
  },
  {
   "cell_type": "code",
   "execution_count": null,
   "metadata": {},
   "outputs": [],
   "source": [
    "# list(apple.columns.values)"
   ]
  },
  {
   "cell_type": "code",
   "execution_count": 3,
   "metadata": {},
   "outputs": [],
   "source": [
    "apple['type'] = apple['price'].apply(lambda x: 'Free' if x==0.00 else 'Paid')"
   ]
  },
  {
   "cell_type": "code",
   "execution_count": 4,
   "metadata": {},
   "outputs": [],
   "source": [
    "apple = apple[['app','size','price','type','category','content','rating','rating_count','rating_ver','rating_count_ver']]"
   ]
  },
  {
   "cell_type": "code",
   "execution_count": 5,
   "metadata": {},
   "outputs": [
    {
     "data": {
      "text/html": [
       "<div>\n",
       "<style scoped>\n",
       "    .dataframe tbody tr th:only-of-type {\n",
       "        vertical-align: middle;\n",
       "    }\n",
       "\n",
       "    .dataframe tbody tr th {\n",
       "        vertical-align: top;\n",
       "    }\n",
       "\n",
       "    .dataframe thead th {\n",
       "        text-align: right;\n",
       "    }\n",
       "</style>\n",
       "<table border=\"1\" class=\"dataframe\">\n",
       "  <thead>\n",
       "    <tr style=\"text-align: right;\">\n",
       "      <th></th>\n",
       "      <th>app</th>\n",
       "      <th>size</th>\n",
       "      <th>price</th>\n",
       "      <th>type</th>\n",
       "      <th>category</th>\n",
       "      <th>content</th>\n",
       "      <th>rating</th>\n",
       "      <th>rating_count</th>\n",
       "      <th>rating_ver</th>\n",
       "      <th>rating_count_ver</th>\n",
       "    </tr>\n",
       "  </thead>\n",
       "  <tbody>\n",
       "    <tr>\n",
       "      <th>0</th>\n",
       "      <td>PAC-MAN Premium</td>\n",
       "      <td>100.788</td>\n",
       "      <td>3.99</td>\n",
       "      <td>Paid</td>\n",
       "      <td>Games</td>\n",
       "      <td>4+</td>\n",
       "      <td>4.0</td>\n",
       "      <td>21292</td>\n",
       "      <td>4.5</td>\n",
       "      <td>26</td>\n",
       "    </tr>\n",
       "    <tr>\n",
       "      <th>1</th>\n",
       "      <td>Evernote - stay organized</td>\n",
       "      <td>158.579</td>\n",
       "      <td>0.00</td>\n",
       "      <td>Free</td>\n",
       "      <td>Productivity</td>\n",
       "      <td>4+</td>\n",
       "      <td>4.0</td>\n",
       "      <td>161065</td>\n",
       "      <td>3.5</td>\n",
       "      <td>26</td>\n",
       "    </tr>\n",
       "    <tr>\n",
       "      <th>2</th>\n",
       "      <td>WeatherBug - Local Weather, Radar, Maps, Alerts</td>\n",
       "      <td>100.524</td>\n",
       "      <td>0.00</td>\n",
       "      <td>Free</td>\n",
       "      <td>Weather</td>\n",
       "      <td>4+</td>\n",
       "      <td>3.5</td>\n",
       "      <td>188583</td>\n",
       "      <td>4.5</td>\n",
       "      <td>2822</td>\n",
       "    </tr>\n",
       "    <tr>\n",
       "      <th>3</th>\n",
       "      <td>eBay: Best App to Buy, Sell, Save! Online Shop...</td>\n",
       "      <td>128.512</td>\n",
       "      <td>0.00</td>\n",
       "      <td>Free</td>\n",
       "      <td>Shopping</td>\n",
       "      <td>12+</td>\n",
       "      <td>4.0</td>\n",
       "      <td>262241</td>\n",
       "      <td>4.5</td>\n",
       "      <td>649</td>\n",
       "    </tr>\n",
       "    <tr>\n",
       "      <th>4</th>\n",
       "      <td>Bible</td>\n",
       "      <td>92.774</td>\n",
       "      <td>0.00</td>\n",
       "      <td>Free</td>\n",
       "      <td>Books &amp; Reference</td>\n",
       "      <td>4+</td>\n",
       "      <td>4.5</td>\n",
       "      <td>985920</td>\n",
       "      <td>5.0</td>\n",
       "      <td>5320</td>\n",
       "    </tr>\n",
       "  </tbody>\n",
       "</table>\n",
       "</div>"
      ],
      "text/plain": [
       "                                                 app     size  price  type  \\\n",
       "0                                    PAC-MAN Premium  100.788   3.99  Paid   \n",
       "1                          Evernote - stay organized  158.579   0.00  Free   \n",
       "2    WeatherBug - Local Weather, Radar, Maps, Alerts  100.524   0.00  Free   \n",
       "3  eBay: Best App to Buy, Sell, Save! Online Shop...  128.512   0.00  Free   \n",
       "4                                              Bible   92.774   0.00  Free   \n",
       "\n",
       "            category content  rating  rating_count  rating_ver  \\\n",
       "0              Games      4+     4.0         21292         4.5   \n",
       "1       Productivity      4+     4.0        161065         3.5   \n",
       "2            Weather      4+     3.5        188583         4.5   \n",
       "3           Shopping     12+     4.0        262241         4.5   \n",
       "4  Books & Reference      4+     4.5        985920         5.0   \n",
       "\n",
       "   rating_count_ver  \n",
       "0                26  \n",
       "1                26  \n",
       "2              2822  \n",
       "3               649  \n",
       "4              5320  "
      ]
     },
     "execution_count": 5,
     "metadata": {},
     "output_type": "execute_result"
    }
   ],
   "source": [
    "apple.head()\n",
    "#DV: rating - by version? visualization?\n",
    "#IV: size, price (binary set), category, content"
   ]
  },
  {
   "cell_type": "code",
   "execution_count": 8,
   "metadata": {},
   "outputs": [
    {
     "data": {
      "text/plain": [
       "0       100.788\n",
       "1       158.579\n",
       "2       100.524\n",
       "3       128.512\n",
       "4        92.774\n",
       "5        10.486\n",
       "6       227.796\n",
       "7       130.243\n",
       "8        49.250\n",
       "9        70.023\n",
       "10       49.619\n",
       "11      227.547\n",
       "12      179.979\n",
       "13      160.926\n",
       "14       55.154\n",
       "15      207.908\n",
       "16      389.880\n",
       "17      167.408\n",
       "18      147.094\n",
       "19       10.735\n",
       "20       70.708\n",
       "21        6.170\n",
       "22      130.584\n",
       "23       71.204\n",
       "24       11.423\n",
       "25      188.018\n",
       "26        4.766\n",
       "27      287.933\n",
       "28        4.264\n",
       "29      172.772\n",
       "         ...   \n",
       "7159    177.498\n",
       "7160     89.188\n",
       "7161     32.685\n",
       "7162     26.077\n",
       "7163    143.347\n",
       "7164    242.506\n",
       "7165     18.165\n",
       "7166    169.535\n",
       "7167     64.245\n",
       "7168    184.324\n",
       "7169     33.947\n",
       "7170    327.731\n",
       "7171    113.382\n",
       "7172     94.008\n",
       "7173    178.161\n",
       "7174      9.362\n",
       "7175     57.349\n",
       "7176    171.945\n",
       "7177    208.027\n",
       "7178     85.581\n",
       "7179     52.343\n",
       "7180    168.775\n",
       "7181    537.463\n",
       "7182     22.999\n",
       "7183     27.854\n",
       "7184    126.644\n",
       "7185    120.760\n",
       "7186    111.322\n",
       "7187     97.236\n",
       "7188     90.898\n",
       "Name: size, Length: 7189, dtype: object"
      ]
     },
     "execution_count": 8,
     "metadata": {},
     "output_type": "execute_result"
    }
   ],
   "source": [
    "apple['size']"
   ]
  },
  {
   "cell_type": "code",
   "execution_count": null,
   "metadata": {},
   "outputs": [],
   "source": [
    "google = pd.read_csv('google.csv')\n",
    "google = google[google.columns[1:]]"
   ]
  },
  {
   "cell_type": "code",
   "execution_count": null,
   "metadata": {},
   "outputs": [],
   "source": [
    "# list(google.columns.values)"
   ]
  },
  {
   "cell_type": "code",
   "execution_count": null,
   "metadata": {},
   "outputs": [],
   "source": [
    "google = google[['app','size','price','type','category','content','rating','rating_count','installs']]"
   ]
  },
  {
   "cell_type": "code",
   "execution_count": null,
   "metadata": {},
   "outputs": [],
   "source": [
    "google.head()\n",
    "#DV could be rating & installs\n",
    "#IV: size, price (binary as well), category, content, type\n",
    "#adjust for rating_count?"
   ]
  },
  {
   "cell_type": "code",
   "execution_count": null,
   "metadata": {},
   "outputs": [],
   "source": [
    "googlereviews = pd.read_csv('googlereviews.csv')\n",
    "googlereviews = googlereviews[googlereviews.columns[1:]]\n",
    "googlereviews.head()"
   ]
  },
  {
   "cell_type": "code",
   "execution_count": null,
   "metadata": {},
   "outputs": [],
   "source": [
    "%matplotlib inline\n",
    "import matplotlib.pyplot as plt\n",
    "import seaborn as sns\n",
    "plt.style.use('seaborn')"
   ]
  },
  {
   "cell_type": "code",
   "execution_count": null,
   "metadata": {},
   "outputs": [],
   "source": [
    "plt.scatter(apple['price'], apple['rating'], s=2)\n",
    "plt.xlabel('price')\n",
    "plt.ylabel('rating')\n",
    "\n",
    "plt.show()"
   ]
  },
  {
   "cell_type": "code",
   "execution_count": null,
   "metadata": {},
   "outputs": [],
   "source": [
    "plt.scatter(google['price'], google['rating'], s=2)\n",
    "plt.xlabel('price')\n",
    "plt.ylabel('rating')\n",
    "\n",
    "plt.show()"
   ]
  },
  {
   "cell_type": "code",
   "execution_count": null,
   "metadata": {},
   "outputs": [],
   "source": [
    "apple[apple.price > 50]"
   ]
  },
  {
   "cell_type": "code",
   "execution_count": null,
   "metadata": {},
   "outputs": [],
   "source": [
    "google[google.price>50]"
   ]
  },
  {
   "cell_type": "markdown",
   "metadata": {},
   "source": [
    "<h2>Classification</h2>"
   ]
  },
  {
   "cell_type": "code",
   "execution_count": null,
   "metadata": {},
   "outputs": [],
   "source": [
    "from sklearn.model_selection import train_test_split\n",
    "from sklearn import linear_model "
   ]
  },
  {
   "cell_type": "code",
   "execution_count": null,
   "metadata": {},
   "outputs": [],
   "source": [
    "from sklearn.tree import DecisionTreeRegressor\n",
    "from sklearn import tree"
   ]
  },
  {
   "cell_type": "markdown",
   "metadata": {},
   "source": [
    "<a href='https://stackoverflow.com/questions/38108832/passing-categorical-data-to-sklearn-decision-tree'><span style='color:red'>Sklearn: mixed input variables?</span></a>"
   ]
  },
  {
   "cell_type": "code",
   "execution_count": null,
   "metadata": {},
   "outputs": [],
   "source": [
    "#one_hot function\n",
    "# encoded_apple = pd.get_dummies(apple[['type','category','content']],drop_first=True)\n",
    "# encoded_apple"
   ]
  },
  {
   "cell_type": "code",
   "execution_count": null,
   "metadata": {},
   "outputs": [],
   "source": [
    "from sklearn import preprocessing"
   ]
  },
  {
   "cell_type": "code",
   "execution_count": null,
   "metadata": {},
   "outputs": [],
   "source": [
    "#transform categorical IV's into dummies\n",
    "#type\n",
    "#category\n",
    "#content\n",
    "\n",
    "le = preprocessing.LabelEncoder()\n",
    "\n",
    "le.fit(list(apple['category'].unique()))\n",
    "apple['dummy_category'] = le.transform(apple['category'])\n",
    "# le.inverse_transform(apple['category'])\n",
    "\n",
    "le.fit(list(apple['content'].unique()))\n",
    "apple['dymmy_content'] = le.transform(apple['content'])\n",
    "\n",
    "le.fit(list(apple['type'].unique()))\n",
    "apple['dymmy_type'] = le.transform(apple['type'])\n",
    "\n",
    "apple.head()"
   ]
  },
  {
   "cell_type": "code",
   "execution_count": null,
   "metadata": {},
   "outputs": [],
   "source": [
    "#Rating as DV\n",
    "#IV: size, price/type, category, content\n",
    "#should not have price and type together as they directly correlate with one another\n",
    "train, test = train_test_split(apple, test_size = 0.3)\n",
    "x_train = train.iloc[0:,[1,2,10,11]]\n",
    "y_train = train[['rating']]\n",
    "x_test = test.iloc[0:,[1,2,10,11]]\n",
    "y_test = test[['rating']]"
   ]
  },
  {
   "cell_type": "code",
   "execution_count": null,
   "metadata": {},
   "outputs": [],
   "source": [
    "x_train.head()"
   ]
  },
  {
   "cell_type": "code",
   "execution_count": null,
   "metadata": {},
   "outputs": [],
   "source": [
    "model = tree.DecisionTreeRegressor(max_depth=3)\n",
    "#model = DecisionTreeRegressor(max_depth = 3)\n",
    "model.fit(x_train,y_train)"
   ]
  },
  {
   "cell_type": "code",
   "execution_count": null,
   "metadata": {},
   "outputs": [],
   "source": [
    "# !pip install pydotplus --upgrade"
   ]
  },
  {
   "cell_type": "code",
   "execution_count": null,
   "metadata": {},
   "outputs": [],
   "source": [
    "feature_names = ['price','category','content rating']\n",
    "from IPython.display import Image\n",
    "dot_data = tree.export_graphviz(model, out_file=None,feature_names=feature_names)\n",
    "import pydotplus\n",
    "\n",
    "graph = pydotplus.graphviz.graph_from_dot_data(dot_data)\n",
    "\n",
    "Image(graph.create_png())\n",
    "\n",
    "#Need to figure out how to convert back the dummies\n",
    "#Manually draw the tree elsewhere?"
   ]
  },
  {
   "cell_type": "markdown",
   "metadata": {},
   "source": [
    "<h2>Regression</h2>"
   ]
  },
  {
   "cell_type": "code",
   "execution_count": null,
   "metadata": {},
   "outputs": [],
   "source": [
    "print(len(google.index))\n",
    "print(len(apple.index))"
   ]
  },
  {
   "cell_type": "code",
   "execution_count": null,
   "metadata": {},
   "outputs": [],
   "source": [
    "#apple\n",
    "\n",
    "train, test = train_test_split(apple, test_size = 0.3) #30% as test set\n",
    "x_train = train.iloc[0:,0:60]\n",
    "y_train = train[60] #single out the output feature\n",
    "x_test = test.iloc[0:,0:60]\n",
    "y_test = test[60]\n",
    "y_train #trained result by index"
   ]
  }
 ],
 "metadata": {
  "kernelspec": {
   "display_name": "Python 3",
   "language": "python",
   "name": "python3"
  },
  "language_info": {
   "codemirror_mode": {
    "name": "ipython",
    "version": 3
   },
   "file_extension": ".py",
   "mimetype": "text/x-python",
   "name": "python",
   "nbconvert_exporter": "python",
   "pygments_lexer": "ipython3",
   "version": "3.7.2"
  }
 },
 "nbformat": 4,
 "nbformat_minor": 2
}
