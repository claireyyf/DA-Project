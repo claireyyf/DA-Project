{
 "cells": [
  {
   "cell_type": "code",
   "execution_count": 212,
   "metadata": {},
   "outputs": [],
   "source": [
    "import pandas as pd\n",
    "import numpy as np\n",
    "import sklearn\n",
    "# import statsmodels.api as sm\n",
    "from scipy.optimize import minimize\n",
    "import matplotlib.pyplot as plt"
   ]
  },
  {
   "cell_type": "code",
   "execution_count": 213,
   "metadata": {},
   "outputs": [],
   "source": [
    "apple=pd.read_csv('apple.csv')\n",
    "google=pd.read_csv('google.csv')"
   ]
  },
  {
   "cell_type": "code",
   "execution_count": 214,
   "metadata": {},
   "outputs": [],
   "source": [
    "from sklearn import linear_model \n",
    "from sklearn.model_selection import train_test_split"
   ]
  },
  {
   "cell_type": "code",
   "execution_count": 215,
   "metadata": {},
   "outputs": [],
   "source": [
    "apple['size']=apple['size'].apply(lambda x: x.replace(',','') if ',' in str(x) else x).apply(float)"
   ]
  },
  {
   "cell_type": "code",
   "execution_count": 216,
   "metadata": {},
   "outputs": [],
   "source": [
    "##data transformation\n",
    "apple['size']=np.log10(apple['size'])"
   ]
  },
  {
   "cell_type": "code",
   "execution_count": 217,
   "metadata": {},
   "outputs": [],
   "source": [
    "apple['free']= np.where(apple['price']==0,1,0)#0\n",
    "apple['less or equal $2']=np.where((apple['price']<=2) & (apple['price']>0),1,0)#1\n",
    "apple['$2-$5']=np.where((apple['price']<=5) & (apple['price']>2),1,0)#3.5\n",
    "apple['greater than $5']=np.where( (apple['price']>5),1,0)#12.22"
   ]
  },
  {
   "cell_type": "code",
   "execution_count": 218,
   "metadata": {},
   "outputs": [],
   "source": [
    "# (n, bins, patches) = plt.hist(apple['size'], bins=20, label='hst')\n",
    "\n",
    "# plt.show()\n",
    "Nbins=5\n",
    "hist, edges = np.histogram(apple['size'], bins=Nbins)"
   ]
  },
  {
   "cell_type": "code",
   "execution_count": 227,
   "metadata": {},
   "outputs": [],
   "source": [
    "#train, test = train_test_split(apple, test_size = 0.5)\n",
    "train=pd.read_csv('trainset.csv')\n",
    "test=pd.read_csv(\"testset.csv\")"
   ]
  },
  {
   "cell_type": "code",
   "execution_count": 228,
   "metadata": {},
   "outputs": [],
   "source": [
    "x=np.zeros((4*Nbins,2))\n",
    "count=0\n",
    "price_list=[0,1,3.5,12.2228]\n",
    "size_list=edges[0:-1]+(edges[1]-edges[0])/2\n",
    "for p1 in range(4):\n",
    "    for p2 in range(Nbins):\n",
    "        x[count,0]=price_list[p1]\n",
    "        x[count,1]=size_list[p2]\n",
    "        count=count+1"
   ]
  },
  {
   "cell_type": "code",
   "execution_count": 229,
   "metadata": {},
   "outputs": [],
   "source": [
    "count_list=np.zeros(4*Nbins)\n",
    "rate_list=np.zeros(4*Nbins)\n",
    "\n",
    "for p in range(len(train)):\n",
    "    price=train.iloc[p][\"price\"]\n",
    "    if price == 0:\n",
    "        p1=0\n",
    "    elif price<=2:\n",
    "        p1=1\n",
    "    elif price<=5:\n",
    "        p1=2\n",
    "    else:\n",
    "        p1=3\n",
    "    size=train.iloc[p][\"size\"]\n",
    "    p2=int(np.floor((size-edges[0])/(edges[1]-edges[0])))\n",
    "    if p2==Nbins:\n",
    "        p2=Nbins-1\n",
    "    count=Nbins*p1+p2\n",
    "    count_list[count]= count_list[count]+1\n",
    "    rate_list[count]=rate_list[count]+apple.iloc[p][\"rating\"]\n",
    "\n",
    "nonzero=count_list!=0\n",
    "x_train=x[nonzero]\n",
    "y_train=rate_list[nonzero]/count_list[nonzero]"
   ]
  },
  {
   "cell_type": "markdown",
   "metadata": {},
   "source": [
    "#### R^2 of train set"
   ]
  },
  {
   "cell_type": "code",
   "execution_count": 230,
   "metadata": {},
   "outputs": [
    {
     "data": {
      "text/plain": [
       "0.5296412562122894"
      ]
     },
     "execution_count": 230,
     "metadata": {},
     "output_type": "execute_result"
    }
   ],
   "source": [
    "poly = sklearn.preprocessing.PolynomialFeatures(degree=2)\n",
    "x_train2 = poly.fit_transform(x_train)\n",
    "\n",
    "clf = linear_model.LinearRegression()\n",
    "clf.fit(x_train2, y_train)\n",
    "clf.score(x_train2, y_train)"
   ]
  },
  {
   "cell_type": "code",
   "execution_count": 231,
   "metadata": {},
   "outputs": [],
   "source": [
    "count_list=np.zeros(4*Nbins)\n",
    "rate_list=np.zeros(4*Nbins)\n",
    "\n",
    "for p in range(len(test)):\n",
    "    price=test.iloc[p][\"price\"]\n",
    "    if price == 0:\n",
    "        p1=0\n",
    "    elif price<=2:\n",
    "        p1=1\n",
    "    elif price<=5:\n",
    "        p1=2\n",
    "    else:\n",
    "        p1=3\n",
    "    size=test.iloc[p][\"size\"]\n",
    "    p2=int(np.floor((size-edges[0])/(edges[1]-edges[0])))\n",
    "    if p2==Nbins:\n",
    "        p2=Nbins-1\n",
    "    count=Nbins*p1+p2\n",
    "    count_list[count]= count_list[count]+1\n",
    "    rate_list[count]=rate_list[count]+apple.iloc[p][\"rating\"]\n",
    "\n",
    "nonzero=count_list!=0\n",
    "x_test=x[nonzero]\n",
    "y_test=rate_list[nonzero]/count_list[nonzero]"
   ]
  },
  {
   "cell_type": "markdown",
   "metadata": {},
   "source": [
    "#### R^2 of test set"
   ]
  },
  {
   "cell_type": "code",
   "execution_count": 232,
   "metadata": {},
   "outputs": [
    {
     "data": {
      "text/plain": [
       "0.20138225831596468"
      ]
     },
     "execution_count": 232,
     "metadata": {},
     "output_type": "execute_result"
    }
   ],
   "source": [
    "x_test2 = poly.fit_transform(x_test)\n",
    "clf.score(x_test2, y_test)"
   ]
  }
 ],
 "metadata": {
  "kernelspec": {
   "display_name": "Python 3",
   "language": "python",
   "name": "python3"
  },
  "language_info": {
   "codemirror_mode": {
    "name": "ipython",
    "version": 3
   },
   "file_extension": ".py",
   "mimetype": "text/x-python",
   "name": "python",
   "nbconvert_exporter": "python",
   "pygments_lexer": "ipython3",
   "version": "3.7.1"
  }
 },
 "nbformat": 4,
 "nbformat_minor": 2
}
