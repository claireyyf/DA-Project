{
 "cells": [
  {
   "cell_type": "markdown",
   "metadata": {},
   "source": [
    "<h1>Data Pre-Processing</h1>"
   ]
  },
  {
   "cell_type": "code",
   "execution_count": 1,
   "metadata": {},
   "outputs": [],
   "source": [
    "import pandas as pd\n",
    "import numpy as np"
   ]
  },
  {
   "cell_type": "code",
   "execution_count": 2,
   "metadata": {},
   "outputs": [],
   "source": [
    "%matplotlib inline\n",
    "import matplotlib.pyplot as plt\n",
    "import seaborn as sns\n",
    "# plt.style.use('seaborn')\n",
    "\n",
    "import pylab \n",
    "import scipy.stats as stats"
   ]
  },
  {
   "cell_type": "code",
   "execution_count": 3,
   "metadata": {},
   "outputs": [],
   "source": [
    "import math"
   ]
  },
  {
   "cell_type": "markdown",
   "metadata": {},
   "source": [
    "<h2>Apple</h2>"
   ]
  },
  {
   "cell_type": "code",
   "execution_count": 4,
   "metadata": {},
   "outputs": [],
   "source": [
    "apple = pd.read_csv('apple.csv')\n",
    "apple = apple[apple.columns[1:]]"
   ]
  },
  {
   "cell_type": "code",
   "execution_count": 5,
   "metadata": {},
   "outputs": [
    {
     "data": {
      "text/html": [
       "<div>\n",
       "<style scoped>\n",
       "    .dataframe tbody tr th:only-of-type {\n",
       "        vertical-align: middle;\n",
       "    }\n",
       "\n",
       "    .dataframe tbody tr th {\n",
       "        vertical-align: top;\n",
       "    }\n",
       "\n",
       "    .dataframe thead th {\n",
       "        text-align: right;\n",
       "    }\n",
       "</style>\n",
       "<table border=\"1\" class=\"dataframe\">\n",
       "  <thead>\n",
       "    <tr style=\"text-align: right;\">\n",
       "      <th></th>\n",
       "      <th>app</th>\n",
       "      <th>size</th>\n",
       "      <th>price</th>\n",
       "      <th>rating_count</th>\n",
       "      <th>rating_count_ver</th>\n",
       "      <th>rating</th>\n",
       "      <th>rating_ver</th>\n",
       "      <th>content</th>\n",
       "      <th>category</th>\n",
       "    </tr>\n",
       "  </thead>\n",
       "  <tbody>\n",
       "    <tr>\n",
       "      <th>0</th>\n",
       "      <td>PAC-MAN Premium</td>\n",
       "      <td>100.788</td>\n",
       "      <td>3.99</td>\n",
       "      <td>21292</td>\n",
       "      <td>26</td>\n",
       "      <td>4.0</td>\n",
       "      <td>4.5</td>\n",
       "      <td>4+</td>\n",
       "      <td>Games</td>\n",
       "    </tr>\n",
       "    <tr>\n",
       "      <th>1</th>\n",
       "      <td>Evernote - stay organized</td>\n",
       "      <td>158.579</td>\n",
       "      <td>0.00</td>\n",
       "      <td>161065</td>\n",
       "      <td>26</td>\n",
       "      <td>4.0</td>\n",
       "      <td>3.5</td>\n",
       "      <td>4+</td>\n",
       "      <td>Productivity</td>\n",
       "    </tr>\n",
       "    <tr>\n",
       "      <th>2</th>\n",
       "      <td>WeatherBug - Local Weather, Radar, Maps, Alerts</td>\n",
       "      <td>100.524</td>\n",
       "      <td>0.00</td>\n",
       "      <td>188583</td>\n",
       "      <td>2822</td>\n",
       "      <td>3.5</td>\n",
       "      <td>4.5</td>\n",
       "      <td>4+</td>\n",
       "      <td>Weather</td>\n",
       "    </tr>\n",
       "    <tr>\n",
       "      <th>3</th>\n",
       "      <td>eBay: Best App to Buy, Sell, Save! Online Shop...</td>\n",
       "      <td>128.512</td>\n",
       "      <td>0.00</td>\n",
       "      <td>262241</td>\n",
       "      <td>649</td>\n",
       "      <td>4.0</td>\n",
       "      <td>4.5</td>\n",
       "      <td>12+</td>\n",
       "      <td>Shopping</td>\n",
       "    </tr>\n",
       "    <tr>\n",
       "      <th>4</th>\n",
       "      <td>Bible</td>\n",
       "      <td>92.774</td>\n",
       "      <td>0.00</td>\n",
       "      <td>985920</td>\n",
       "      <td>5320</td>\n",
       "      <td>4.5</td>\n",
       "      <td>5.0</td>\n",
       "      <td>4+</td>\n",
       "      <td>Books &amp; Reference</td>\n",
       "    </tr>\n",
       "  </tbody>\n",
       "</table>\n",
       "</div>"
      ],
      "text/plain": [
       "                                                 app     size  price  \\\n",
       "0                                    PAC-MAN Premium  100.788   3.99   \n",
       "1                          Evernote - stay organized  158.579   0.00   \n",
       "2    WeatherBug - Local Weather, Radar, Maps, Alerts  100.524   0.00   \n",
       "3  eBay: Best App to Buy, Sell, Save! Online Shop...  128.512   0.00   \n",
       "4                                              Bible   92.774   0.00   \n",
       "\n",
       "   rating_count  rating_count_ver  rating  rating_ver content  \\\n",
       "0         21292                26     4.0         4.5      4+   \n",
       "1        161065                26     4.0         3.5      4+   \n",
       "2        188583              2822     3.5         4.5      4+   \n",
       "3        262241               649     4.0         4.5     12+   \n",
       "4        985920              5320     4.5         5.0      4+   \n",
       "\n",
       "            category  \n",
       "0              Games  \n",
       "1       Productivity  \n",
       "2            Weather  \n",
       "3           Shopping  \n",
       "4  Books & Reference  "
      ]
     },
     "execution_count": 5,
     "metadata": {},
     "output_type": "execute_result"
    }
   ],
   "source": [
    "apple.head()"
   ]
  },
  {
   "cell_type": "code",
   "execution_count": 6,
   "metadata": {
    "scrolled": false
   },
   "outputs": [
    {
     "data": {
      "text/plain": [
       "1438"
      ]
     },
     "execution_count": 6,
     "metadata": {},
     "output_type": "execute_result"
    }
   ],
   "source": [
    "#Only concern current version's ratings\n",
    "apple = apple.drop(['rating','rating_count'],axis=1)\n",
    "len(apple[apple['rating_count_ver']<0.5].index)"
   ]
  },
  {
   "cell_type": "code",
   "execution_count": 7,
   "metadata": {},
   "outputs": [
    {
     "name": "stdout",
     "output_type": "stream",
     "text": [
      "<class 'pandas.core.frame.DataFrame'>\n",
      "Int64Index: 5751 entries, 0 to 7188\n",
      "Data columns (total 7 columns):\n",
      "app                 5751 non-null object\n",
      "size                5751 non-null object\n",
      "price               5751 non-null float64\n",
      "rating_count_ver    5751 non-null int64\n",
      "rating_ver          5751 non-null float64\n",
      "content             5751 non-null object\n",
      "category            5751 non-null object\n",
      "dtypes: float64(2), int64(1), object(4)\n",
      "memory usage: 359.4+ KB\n"
     ]
    }
   ],
   "source": [
    "#1438 rows without currrent version rating -> useless\n",
    "#924 rows without rating for all versions\n",
    "apple = apple[apple['rating_count_ver']>0]\n",
    "apple.info()\n",
    "#7189 entries to 5751 entries"
   ]
  },
  {
   "cell_type": "code",
   "execution_count": 8,
   "metadata": {},
   "outputs": [],
   "source": [
    "apple['type'] = np.where(apple['price']==0.00,0,1)\n",
    "#Free: 0\n",
    "#Paid: 1"
   ]
  },
  {
   "cell_type": "code",
   "execution_count": 9,
   "metadata": {},
   "outputs": [
    {
     "data": {
      "text/plain": [
       "count    5751.000000\n",
       "mean      211.986633\n",
       "std       361.362255\n",
       "min         0.590000\n",
       "25%        52.200500\n",
       "50%       103.392000\n",
       "75%       193.857000\n",
       "max      4025.970000\n",
       "Name: size, dtype: float64"
      ]
     },
     "execution_count": 9,
     "metadata": {},
     "output_type": "execute_result"
    }
   ],
   "source": [
    "#need to convert size to float\n",
    "#add \"type\" dummy to match with google dataset\n",
    "\n",
    "apple['size'] = apple['size'].apply(lambda x: x.replace(',','') if ',' in str(x) else x).apply(float)\n",
    "apple['size'].describe()\n",
    "#the 4th quartile appears to contain significant outliers"
   ]
  },
  {
   "cell_type": "code",
   "execution_count": 10,
   "metadata": {},
   "outputs": [
    {
     "data": {
      "image/png": "[encoded data removed]",
      "text/plain": [
       "<Figure size 432x288 with 1 Axes>"
      ]
     },
     "metadata": {
      "needs_background": "light"
     },
     "output_type": "display_data"
    }
   ],
   "source": [
    "stats.probplot(apple['size'], dist=\"norm\", plot=pylab)\n",
    "pylab.show()\n",
    "#VERY skewed - log transform"
   ]
  },
  {
   "cell_type": "code",
   "execution_count": 11,
   "metadata": {},
   "outputs": [
    {
     "data": {
      "image/png": "[encoded data removed]",
      "text/plain": [
       "<Figure size 432x288 with 1 Axes>"
      ]
     },
     "metadata": {
      "needs_background": "light"
     },
     "output_type": "display_data"
    }
   ],
   "source": [
    "apple['size_log'] = apple['size'].apply(lambda x: math.log(x))\n",
    "\n",
    "stats.probplot(apple['size_log'], dist=\"norm\", plot=pylab)\n",
    "pylab.show()\n",
    "#MUCH BETTER"
   ]
  },
  {
   "cell_type": "code",
   "execution_count": 12,
   "metadata": {},
   "outputs": [
    {
     "data": {
      "text/plain": [
       "count    5751.000000\n",
       "mean        4.613642\n",
       "std         1.219700\n",
       "min        -0.527633\n",
       "25%         3.955092\n",
       "50%         4.638528\n",
       "75%         5.267121\n",
       "max         8.300521\n",
       "Name: size_log, dtype: float64"
      ]
     },
     "execution_count": 12,
     "metadata": {},
     "output_type": "execute_result"
    }
   ],
   "source": [
    "apple['size_log'].describe()"
   ]
  },
  {
   "cell_type": "code",
   "execution_count": 13,
   "metadata": {},
   "outputs": [
    {
     "name": "stdout",
     "output_type": "stream",
     "text": [
      "[  48  457 2732 2114  400] [-0.52763274  1.23799804  3.00362882  4.7692596   6.53489038  8.30052115]\n"
     ]
    }
   ],
   "source": [
    "Nbins=5\n",
    "hist_a, edges_a = np.histogram(apple['size_log'], bins=Nbins)\n",
    "print(hist_a, edges_a)"
   ]
  },
  {
   "cell_type": "code",
   "execution_count": 14,
   "metadata": {},
   "outputs": [],
   "source": [
    "#Also, in case, create size groups\n",
    "apple['size_level'] = apple['size_log'].apply(lambda x: 0 if (x >= edges_a[0])&(x < edges_a[1]) \n",
    "                                          else (1 if (x >= edges_a[1])&(x < edges_a[2]) \n",
    "                                                else (2 if (x >= edges_a[2])&(x < edges_a[3]) \n",
    "                                                      else (3 if (x >= edges_a[3])&(x < edges_a[4]) \n",
    "                                                            else 4))))"
   ]
  },
  {
   "cell_type": "code",
   "execution_count": 15,
   "metadata": {},
   "outputs": [
    {
     "data": {
      "text/plain": [
       "size_level\n",
       "0      48\n",
       "1     457\n",
       "2    2732\n",
       "3    2114\n",
       "4     400\n",
       "dtype: int64"
      ]
     },
     "execution_count": 15,
     "metadata": {},
     "output_type": "execute_result"
    }
   ],
   "source": [
    "apple.groupby('size_level').size()"
   ]
  },
  {
   "cell_type": "code",
   "execution_count": 16,
   "metadata": {},
   "outputs": [],
   "source": [
    "apple = apple.drop(['size'],axis=1)"
   ]
  },
  {
   "cell_type": "code",
   "execution_count": 17,
   "metadata": {},
   "outputs": [
    {
     "data": {
      "text/plain": [
       "count    5751.000000\n",
       "mean        1.794112\n",
       "std         4.732659\n",
       "min         0.000000\n",
       "25%         0.000000\n",
       "50%         0.000000\n",
       "75%         2.990000\n",
       "max       249.990000\n",
       "Name: price, dtype: float64"
      ]
     },
     "execution_count": 17,
     "metadata": {},
     "output_type": "execute_result"
    }
   ],
   "source": [
    "#create price groups\n",
    "apple['price'].describe()"
   ]
  },
  {
   "cell_type": "code",
   "execution_count": 18,
   "metadata": {},
   "outputs": [
    {
     "data": {
      "text/html": [
       "<div>\n",
       "<style scoped>\n",
       "    .dataframe tbody tr th:only-of-type {\n",
       "        vertical-align: middle;\n",
       "    }\n",
       "\n",
       "    .dataframe tbody tr th {\n",
       "        vertical-align: top;\n",
       "    }\n",
       "\n",
       "    .dataframe thead th {\n",
       "        text-align: right;\n",
       "    }\n",
       "</style>\n",
       "<table border=\"1\" class=\"dataframe\">\n",
       "  <thead>\n",
       "    <tr style=\"text-align: right;\">\n",
       "      <th></th>\n",
       "      <th>app</th>\n",
       "      <th>price</th>\n",
       "      <th>rating_count_ver</th>\n",
       "      <th>rating_ver</th>\n",
       "      <th>content</th>\n",
       "      <th>category</th>\n",
       "      <th>type</th>\n",
       "      <th>size_log</th>\n",
       "      <th>size_level</th>\n",
       "    </tr>\n",
       "  </thead>\n",
       "  <tbody>\n",
       "    <tr>\n",
       "      <th>115</th>\n",
       "      <td>Proloquo2Go - Symbol-based AAC</td>\n",
       "      <td>249.99</td>\n",
       "      <td>10</td>\n",
       "      <td>3.5</td>\n",
       "      <td>4+</td>\n",
       "      <td>Education</td>\n",
       "      <td>1</td>\n",
       "      <td>6.584465</td>\n",
       "      <td>4</td>\n",
       "    </tr>\n",
       "    <tr>\n",
       "      <th>162</th>\n",
       "      <td>NAVIGON Europe</td>\n",
       "      <td>74.99</td>\n",
       "      <td>3</td>\n",
       "      <td>2.5</td>\n",
       "      <td>4+</td>\n",
       "      <td>Navigation</td>\n",
       "      <td>1</td>\n",
       "      <td>4.972677</td>\n",
       "      <td>3</td>\n",
       "    </tr>\n",
       "    <tr>\n",
       "      <th>1136</th>\n",
       "      <td>Articulation Station Pro</td>\n",
       "      <td>59.99</td>\n",
       "      <td>130</td>\n",
       "      <td>5.0</td>\n",
       "      <td>4+</td>\n",
       "      <td>Education</td>\n",
       "      <td>1</td>\n",
       "      <td>6.054249</td>\n",
       "      <td>3</td>\n",
       "    </tr>\n",
       "    <tr>\n",
       "      <th>3237</th>\n",
       "      <td>FineScanner Pro - PDF Document Scanner App + OCR</td>\n",
       "      <td>59.99</td>\n",
       "      <td>4</td>\n",
       "      <td>4.5</td>\n",
       "      <td>4+</td>\n",
       "      <td>Business</td>\n",
       "      <td>1</td>\n",
       "      <td>4.158477</td>\n",
       "      <td>2</td>\n",
       "    </tr>\n",
       "  </tbody>\n",
       "</table>\n",
       "</div>"
      ],
      "text/plain": [
       "                                                   app   price  \\\n",
       "115                     Proloquo2Go - Symbol-based AAC  249.99   \n",
       "162                                     NAVIGON Europe   74.99   \n",
       "1136                          Articulation Station Pro   59.99   \n",
       "3237  FineScanner Pro - PDF Document Scanner App + OCR   59.99   \n",
       "\n",
       "      rating_count_ver  rating_ver content    category  type  size_log  \\\n",
       "115                 10         3.5      4+   Education     1  6.584465   \n",
       "162                  3         2.5      4+  Navigation     1  4.972677   \n",
       "1136               130         5.0      4+   Education     1  6.054249   \n",
       "3237                 4         4.5      4+    Business     1  4.158477   \n",
       "\n",
       "      size_level  \n",
       "115            4  \n",
       "162            3  \n",
       "1136           3  \n",
       "3237           2  "
      ]
     },
     "execution_count": 18,
     "metadata": {},
     "output_type": "execute_result"
    }
   ],
   "source": [
    "apple[apple.price > 50]\n",
    "#the 249.99 is one outlier that skews the data too much -> remove it"
   ]
  },
  {
   "cell_type": "code",
   "execution_count": 19,
   "metadata": {},
   "outputs": [],
   "source": [
    "apple = apple[apple['price']<100]"
   ]
  },
  {
   "cell_type": "code",
   "execution_count": 20,
   "metadata": {},
   "outputs": [
    {
     "data": {
      "image/png": "[encoded data removed]",
      "text/plain": [
       "<Figure size 432x288 with 1 Axes>"
      ]
     },
     "metadata": {
      "needs_background": "light"
     },
     "output_type": "display_data"
    }
   ],
   "source": [
    "stats.probplot(apple[\"price\"], dist=\"norm\", plot=pylab)\n",
    "pylab.show()\n",
    "#Many outliers - better to classify"
   ]
  },
  {
   "cell_type": "code",
   "execution_count": 21,
   "metadata": {},
   "outputs": [
    {
     "data": {
      "text/plain": [
       "count    2705.000000\n",
       "mean        3.721978\n",
       "std         4.183861\n",
       "min         0.990000\n",
       "25%         1.990000\n",
       "50%         2.990000\n",
       "75%         4.990000\n",
       "max        74.990000\n",
       "Name: price, dtype: float64"
      ]
     },
     "execution_count": 21,
     "metadata": {},
     "output_type": "execute_result"
    }
   ],
   "source": [
    "#among paid app:\n",
    "apple[apple['price']>0]['price'].describe()"
   ]
  },
  {
   "cell_type": "code",
   "execution_count": 22,
   "metadata": {},
   "outputs": [],
   "source": [
    "apple['price_level'] = apple['price'].apply(lambda x: 0 if x<=0.00 \n",
    "                                            else (1 if (x>0)&(x< 2) \n",
    "                                                  else (2 if (x>=2)&(x<3) \n",
    "                                                       else (3 if (x>=3)&(x<5)\n",
    "                                                            else 4))))"
   ]
  },
  {
   "cell_type": "code",
   "execution_count": 23,
   "metadata": {},
   "outputs": [
    {
     "data": {
      "text/plain": [
       "price_level\n",
       "0    3045\n",
       "1    1138\n",
       "2     616\n",
       "3     585\n",
       "4     366\n",
       "dtype: int64"
      ]
     },
     "execution_count": 23,
     "metadata": {},
     "output_type": "execute_result"
    }
   ],
   "source": [
    "apple.groupby('price_level').size()"
   ]
  },
  {
   "cell_type": "code",
   "execution_count": 24,
   "metadata": {},
   "outputs": [],
   "source": [
    "apple = apple.drop(['price'],axis=1)"
   ]
  },
  {
   "cell_type": "code",
   "execution_count": 25,
   "metadata": {},
   "outputs": [
    {
     "data": {
      "text/plain": [
       "count    5750.000000\n",
       "mean        4.069391\n",
       "std         0.879880\n",
       "min         1.000000\n",
       "25%         4.000000\n",
       "50%         4.500000\n",
       "75%         4.500000\n",
       "max         5.000000\n",
       "Name: rating_ver, dtype: float64"
      ]
     },
     "execution_count": 25,
     "metadata": {},
     "output_type": "execute_result"
    }
   ],
   "source": [
    "apple['rating_ver'].describe()"
   ]
  },
  {
   "cell_type": "code",
   "execution_count": 26,
   "metadata": {},
   "outputs": [],
   "source": [
    "#high-low rating cut off around mean\n",
    "apple['rating_high']=np.where(apple['rating_ver']>4, 1, 0)"
   ]
  },
  {
   "cell_type": "code",
   "execution_count": 27,
   "metadata": {},
   "outputs": [],
   "source": [
    "apple = apple.drop(['rating_ver'],axis=1)"
   ]
  },
  {
   "cell_type": "code",
   "execution_count": 28,
   "metadata": {},
   "outputs": [
    {
     "name": "stdout",
     "output_type": "stream",
     "text": [
      "['Games', 'Productivity', 'Weather', 'Shopping', 'Books & Reference', 'Finance', 'Entertainment', 'Utilities', 'Travel', 'Social Networking', 'Sports', 'Health & Fitness', 'Photo & Video', 'Business', 'Education', 'Lifestyle', 'Food & Drink', 'News', 'Navigation', 'Medical']\n"
     ]
    }
   ],
   "source": [
    "#create dummies\n",
    "print(list(apple['category'].unique()))"
   ]
  },
  {
   "cell_type": "code",
   "execution_count": 29,
   "metadata": {},
   "outputs": [],
   "source": [
    "for i in apple['category'].unique():\n",
    "    name = 'dummy_'+i\n",
    "    apple[name] = np.where(apple['category']==i,1,0)"
   ]
  },
  {
   "cell_type": "code",
   "execution_count": 30,
   "metadata": {},
   "outputs": [],
   "source": [
    "apple = apple.drop(['category'],axis=1)"
   ]
  },
  {
   "cell_type": "code",
   "execution_count": 31,
   "metadata": {},
   "outputs": [
    {
     "name": "stdout",
     "output_type": "stream",
     "text": [
      "['4+' '12+' '17+' '9+']\n"
     ]
    }
   ],
   "source": [
    "print(apple['content'].unique())"
   ]
  },
  {
   "cell_type": "code",
   "execution_count": 32,
   "metadata": {},
   "outputs": [
    {
     "data": {
      "text/plain": [
       "content\n",
       "12+     922\n",
       "17+     348\n",
       "4+     3623\n",
       "9+      857\n",
       "dtype: int64"
      ]
     },
     "execution_count": 32,
     "metadata": {},
     "output_type": "execute_result"
    }
   ],
   "source": [
    "apple.groupby('content').size()"
   ]
  },
  {
   "cell_type": "code",
   "execution_count": 33,
   "metadata": {},
   "outputs": [],
   "source": [
    "for i in apple['content'].unique():\n",
    "    name = 'dummy_content_'+i\n",
    "    apple[name] = np.where(apple['content']==i,1,0)"
   ]
  },
  {
   "cell_type": "code",
   "execution_count": 34,
   "metadata": {},
   "outputs": [],
   "source": [
    "apple = apple.drop(['content'],axis=1)"
   ]
  },
  {
   "cell_type": "code",
   "execution_count": 35,
   "metadata": {},
   "outputs": [
    {
     "data": {
      "text/html": [
       "<div>\n",
       "<style scoped>\n",
       "    .dataframe tbody tr th:only-of-type {\n",
       "        vertical-align: middle;\n",
       "    }\n",
       "\n",
       "    .dataframe tbody tr th {\n",
       "        vertical-align: top;\n",
       "    }\n",
       "\n",
       "    .dataframe thead th {\n",
       "        text-align: right;\n",
       "    }\n",
       "</style>\n",
       "<table border=\"1\" class=\"dataframe\">\n",
       "  <thead>\n",
       "    <tr style=\"text-align: right;\">\n",
       "      <th></th>\n",
       "      <th>app</th>\n",
       "      <th>rating_count_ver</th>\n",
       "      <th>type</th>\n",
       "      <th>size_log</th>\n",
       "      <th>size_level</th>\n",
       "      <th>price_level</th>\n",
       "      <th>rating_high</th>\n",
       "      <th>dummy_Games</th>\n",
       "      <th>dummy_Productivity</th>\n",
       "      <th>dummy_Weather</th>\n",
       "      <th>...</th>\n",
       "      <th>dummy_Education</th>\n",
       "      <th>dummy_Lifestyle</th>\n",
       "      <th>dummy_Food &amp; Drink</th>\n",
       "      <th>dummy_News</th>\n",
       "      <th>dummy_Navigation</th>\n",
       "      <th>dummy_Medical</th>\n",
       "      <th>dummy_content_4+</th>\n",
       "      <th>dummy_content_12+</th>\n",
       "      <th>dummy_content_17+</th>\n",
       "      <th>dummy_content_9+</th>\n",
       "    </tr>\n",
       "  </thead>\n",
       "  <tbody>\n",
       "    <tr>\n",
       "      <th>0</th>\n",
       "      <td>PAC-MAN Premium</td>\n",
       "      <td>26</td>\n",
       "      <td>1</td>\n",
       "      <td>4.613019</td>\n",
       "      <td>2</td>\n",
       "      <td>3</td>\n",
       "      <td>1</td>\n",
       "      <td>1</td>\n",
       "      <td>0</td>\n",
       "      <td>0</td>\n",
       "      <td>...</td>\n",
       "      <td>0</td>\n",
       "      <td>0</td>\n",
       "      <td>0</td>\n",
       "      <td>0</td>\n",
       "      <td>0</td>\n",
       "      <td>0</td>\n",
       "      <td>1</td>\n",
       "      <td>0</td>\n",
       "      <td>0</td>\n",
       "      <td>0</td>\n",
       "    </tr>\n",
       "    <tr>\n",
       "      <th>1</th>\n",
       "      <td>Evernote - stay organized</td>\n",
       "      <td>26</td>\n",
       "      <td>0</td>\n",
       "      <td>5.066253</td>\n",
       "      <td>3</td>\n",
       "      <td>0</td>\n",
       "      <td>0</td>\n",
       "      <td>0</td>\n",
       "      <td>1</td>\n",
       "      <td>0</td>\n",
       "      <td>...</td>\n",
       "      <td>0</td>\n",
       "      <td>0</td>\n",
       "      <td>0</td>\n",
       "      <td>0</td>\n",
       "      <td>0</td>\n",
       "      <td>0</td>\n",
       "      <td>1</td>\n",
       "      <td>0</td>\n",
       "      <td>0</td>\n",
       "      <td>0</td>\n",
       "    </tr>\n",
       "    <tr>\n",
       "      <th>2</th>\n",
       "      <td>WeatherBug - Local Weather, Radar, Maps, Alerts</td>\n",
       "      <td>2822</td>\n",
       "      <td>0</td>\n",
       "      <td>4.610397</td>\n",
       "      <td>2</td>\n",
       "      <td>0</td>\n",
       "      <td>1</td>\n",
       "      <td>0</td>\n",
       "      <td>0</td>\n",
       "      <td>1</td>\n",
       "      <td>...</td>\n",
       "      <td>0</td>\n",
       "      <td>0</td>\n",
       "      <td>0</td>\n",
       "      <td>0</td>\n",
       "      <td>0</td>\n",
       "      <td>0</td>\n",
       "      <td>1</td>\n",
       "      <td>0</td>\n",
       "      <td>0</td>\n",
       "      <td>0</td>\n",
       "    </tr>\n",
       "    <tr>\n",
       "      <th>3</th>\n",
       "      <td>eBay: Best App to Buy, Sell, Save! Online Shop...</td>\n",
       "      <td>649</td>\n",
       "      <td>0</td>\n",
       "      <td>4.856022</td>\n",
       "      <td>3</td>\n",
       "      <td>0</td>\n",
       "      <td>1</td>\n",
       "      <td>0</td>\n",
       "      <td>0</td>\n",
       "      <td>0</td>\n",
       "      <td>...</td>\n",
       "      <td>0</td>\n",
       "      <td>0</td>\n",
       "      <td>0</td>\n",
       "      <td>0</td>\n",
       "      <td>0</td>\n",
       "      <td>0</td>\n",
       "      <td>0</td>\n",
       "      <td>1</td>\n",
       "      <td>0</td>\n",
       "      <td>0</td>\n",
       "    </tr>\n",
       "    <tr>\n",
       "      <th>4</th>\n",
       "      <td>Bible</td>\n",
       "      <td>5320</td>\n",
       "      <td>0</td>\n",
       "      <td>4.530166</td>\n",
       "      <td>2</td>\n",
       "      <td>0</td>\n",
       "      <td>1</td>\n",
       "      <td>0</td>\n",
       "      <td>0</td>\n",
       "      <td>0</td>\n",
       "      <td>...</td>\n",
       "      <td>0</td>\n",
       "      <td>0</td>\n",
       "      <td>0</td>\n",
       "      <td>0</td>\n",
       "      <td>0</td>\n",
       "      <td>0</td>\n",
       "      <td>1</td>\n",
       "      <td>0</td>\n",
       "      <td>0</td>\n",
       "      <td>0</td>\n",
       "    </tr>\n",
       "  </tbody>\n",
       "</table>\n",
       "<p>5 rows × 31 columns</p>\n",
       "</div>"
      ],
      "text/plain": [
       "                                                 app  rating_count_ver  type  \\\n",
       "0                                    PAC-MAN Premium                26     1   \n",
       "1                          Evernote - stay organized                26     0   \n",
       "2    WeatherBug - Local Weather, Radar, Maps, Alerts              2822     0   \n",
       "3  eBay: Best App to Buy, Sell, Save! Online Shop...               649     0   \n",
       "4                                              Bible              5320     0   \n",
       "\n",
       "   size_log  size_level  price_level  rating_high  dummy_Games  \\\n",
       "0  4.613019           2            3            1            1   \n",
       "1  5.066253           3            0            0            0   \n",
       "2  4.610397           2            0            1            0   \n",
       "3  4.856022           3            0            1            0   \n",
       "4  4.530166           2            0            1            0   \n",
       "\n",
       "   dummy_Productivity  dummy_Weather  ...  dummy_Education  dummy_Lifestyle  \\\n",
       "0                   0              0  ...                0                0   \n",
       "1                   1              0  ...                0                0   \n",
       "2                   0              1  ...                0                0   \n",
       "3                   0              0  ...                0                0   \n",
       "4                   0              0  ...                0                0   \n",
       "\n",
       "   dummy_Food & Drink  dummy_News  dummy_Navigation  dummy_Medical  \\\n",
       "0                   0           0                 0              0   \n",
       "1                   0           0                 0              0   \n",
       "2                   0           0                 0              0   \n",
       "3                   0           0                 0              0   \n",
       "4                   0           0                 0              0   \n",
       "\n",
       "   dummy_content_4+  dummy_content_12+  dummy_content_17+  dummy_content_9+  \n",
       "0                 1                  0                  0                 0  \n",
       "1                 1                  0                  0                 0  \n",
       "2                 1                  0                  0                 0  \n",
       "3                 0                  1                  0                 0  \n",
       "4                 1                  0                  0                 0  \n",
       "\n",
       "[5 rows x 31 columns]"
      ]
     },
     "execution_count": 35,
     "metadata": {},
     "output_type": "execute_result"
    }
   ],
   "source": [
    "apple.head()"
   ]
  },
  {
   "cell_type": "code",
   "execution_count": 36,
   "metadata": {},
   "outputs": [
    {
     "data": {
      "text/html": [
       "<div>\n",
       "<style scoped>\n",
       "    .dataframe tbody tr th:only-of-type {\n",
       "        vertical-align: middle;\n",
       "    }\n",
       "\n",
       "    .dataframe tbody tr th {\n",
       "        vertical-align: top;\n",
       "    }\n",
       "\n",
       "    .dataframe thead th {\n",
       "        text-align: right;\n",
       "    }\n",
       "</style>\n",
       "<table border=\"1\" class=\"dataframe\">\n",
       "  <thead>\n",
       "    <tr style=\"text-align: right;\">\n",
       "      <th></th>\n",
       "      <th>rating_high</th>\n",
       "      <th>rating_count_ver</th>\n",
       "      <th>size_log</th>\n",
       "      <th>type</th>\n",
       "      <th>price_level</th>\n",
       "      <th>dummy_Games</th>\n",
       "      <th>dummy_Productivity</th>\n",
       "      <th>dummy_Weather</th>\n",
       "      <th>dummy_Shopping</th>\n",
       "      <th>dummy_Books &amp; Reference</th>\n",
       "      <th>...</th>\n",
       "      <th>dummy_Education</th>\n",
       "      <th>dummy_Lifestyle</th>\n",
       "      <th>dummy_Food &amp; Drink</th>\n",
       "      <th>dummy_News</th>\n",
       "      <th>dummy_Navigation</th>\n",
       "      <th>dummy_Medical</th>\n",
       "      <th>dummy_content_4+</th>\n",
       "      <th>dummy_content_9+</th>\n",
       "      <th>dummy_content_12+</th>\n",
       "      <th>dummy_content_17+</th>\n",
       "    </tr>\n",
       "  </thead>\n",
       "  <tbody>\n",
       "    <tr>\n",
       "      <th>0</th>\n",
       "      <td>1</td>\n",
       "      <td>26</td>\n",
       "      <td>4.613019</td>\n",
       "      <td>1</td>\n",
       "      <td>3</td>\n",
       "      <td>1</td>\n",
       "      <td>0</td>\n",
       "      <td>0</td>\n",
       "      <td>0</td>\n",
       "      <td>0</td>\n",
       "      <td>...</td>\n",
       "      <td>0</td>\n",
       "      <td>0</td>\n",
       "      <td>0</td>\n",
       "      <td>0</td>\n",
       "      <td>0</td>\n",
       "      <td>0</td>\n",
       "      <td>1</td>\n",
       "      <td>0</td>\n",
       "      <td>0</td>\n",
       "      <td>0</td>\n",
       "    </tr>\n",
       "    <tr>\n",
       "      <th>1</th>\n",
       "      <td>0</td>\n",
       "      <td>26</td>\n",
       "      <td>5.066253</td>\n",
       "      <td>0</td>\n",
       "      <td>0</td>\n",
       "      <td>0</td>\n",
       "      <td>1</td>\n",
       "      <td>0</td>\n",
       "      <td>0</td>\n",
       "      <td>0</td>\n",
       "      <td>...</td>\n",
       "      <td>0</td>\n",
       "      <td>0</td>\n",
       "      <td>0</td>\n",
       "      <td>0</td>\n",
       "      <td>0</td>\n",
       "      <td>0</td>\n",
       "      <td>1</td>\n",
       "      <td>0</td>\n",
       "      <td>0</td>\n",
       "      <td>0</td>\n",
       "    </tr>\n",
       "    <tr>\n",
       "      <th>2</th>\n",
       "      <td>1</td>\n",
       "      <td>2822</td>\n",
       "      <td>4.610397</td>\n",
       "      <td>0</td>\n",
       "      <td>0</td>\n",
       "      <td>0</td>\n",
       "      <td>0</td>\n",
       "      <td>1</td>\n",
       "      <td>0</td>\n",
       "      <td>0</td>\n",
       "      <td>...</td>\n",
       "      <td>0</td>\n",
       "      <td>0</td>\n",
       "      <td>0</td>\n",
       "      <td>0</td>\n",
       "      <td>0</td>\n",
       "      <td>0</td>\n",
       "      <td>1</td>\n",
       "      <td>0</td>\n",
       "      <td>0</td>\n",
       "      <td>0</td>\n",
       "    </tr>\n",
       "    <tr>\n",
       "      <th>3</th>\n",
       "      <td>1</td>\n",
       "      <td>649</td>\n",
       "      <td>4.856022</td>\n",
       "      <td>0</td>\n",
       "      <td>0</td>\n",
       "      <td>0</td>\n",
       "      <td>0</td>\n",
       "      <td>0</td>\n",
       "      <td>1</td>\n",
       "      <td>0</td>\n",
       "      <td>...</td>\n",
       "      <td>0</td>\n",
       "      <td>0</td>\n",
       "      <td>0</td>\n",
       "      <td>0</td>\n",
       "      <td>0</td>\n",
       "      <td>0</td>\n",
       "      <td>0</td>\n",
       "      <td>0</td>\n",
       "      <td>1</td>\n",
       "      <td>0</td>\n",
       "    </tr>\n",
       "    <tr>\n",
       "      <th>4</th>\n",
       "      <td>1</td>\n",
       "      <td>5320</td>\n",
       "      <td>4.530166</td>\n",
       "      <td>0</td>\n",
       "      <td>0</td>\n",
       "      <td>0</td>\n",
       "      <td>0</td>\n",
       "      <td>0</td>\n",
       "      <td>0</td>\n",
       "      <td>1</td>\n",
       "      <td>...</td>\n",
       "      <td>0</td>\n",
       "      <td>0</td>\n",
       "      <td>0</td>\n",
       "      <td>0</td>\n",
       "      <td>0</td>\n",
       "      <td>0</td>\n",
       "      <td>1</td>\n",
       "      <td>0</td>\n",
       "      <td>0</td>\n",
       "      <td>0</td>\n",
       "    </tr>\n",
       "  </tbody>\n",
       "</table>\n",
       "<p>5 rows × 29 columns</p>\n",
       "</div>"
      ],
      "text/plain": [
       "   rating_high  rating_count_ver  size_log  type  price_level  dummy_Games  \\\n",
       "0            1                26  4.613019     1            3            1   \n",
       "1            0                26  5.066253     0            0            0   \n",
       "2            1              2822  4.610397     0            0            0   \n",
       "3            1               649  4.856022     0            0            0   \n",
       "4            1              5320  4.530166     0            0            0   \n",
       "\n",
       "   dummy_Productivity  dummy_Weather  dummy_Shopping  dummy_Books & Reference  \\\n",
       "0                   0              0               0                        0   \n",
       "1                   1              0               0                        0   \n",
       "2                   0              1               0                        0   \n",
       "3                   0              0               1                        0   \n",
       "4                   0              0               0                        1   \n",
       "\n",
       "   ...  dummy_Education  dummy_Lifestyle  dummy_Food & Drink  dummy_News  \\\n",
       "0  ...                0                0                   0           0   \n",
       "1  ...                0                0                   0           0   \n",
       "2  ...                0                0                   0           0   \n",
       "3  ...                0                0                   0           0   \n",
       "4  ...                0                0                   0           0   \n",
       "\n",
       "   dummy_Navigation  dummy_Medical  dummy_content_4+  dummy_content_9+  \\\n",
       "0                 0              0                 1                 0   \n",
       "1                 0              0                 1                 0   \n",
       "2                 0              0                 1                 0   \n",
       "3                 0              0                 0                 0   \n",
       "4                 0              0                 1                 0   \n",
       "\n",
       "   dummy_content_12+  dummy_content_17+  \n",
       "0                  0                  0  \n",
       "1                  0                  0  \n",
       "2                  0                  0  \n",
       "3                  1                  0  \n",
       "4                  0                  0  \n",
       "\n",
       "[5 rows x 29 columns]"
      ]
     },
     "execution_count": 36,
     "metadata": {},
     "output_type": "execute_result"
    }
   ],
   "source": [
    "#create two separate dataframes: current version & overall version ratings; price & price_level\n",
    "#drop size - keep log transformed sizes\n",
    "#drop category&content - use dummies only\n",
    "\n",
    "#log_size - continuous\n",
    "apple_slog = apple.drop(['app','size_level'],axis=1)\n",
    "\n",
    "apple_slog = apple[['rating_high','rating_count_ver','size_log','type','price_level',\n",
    "                      'dummy_Games','dummy_Productivity','dummy_Weather', 'dummy_Shopping', \n",
    "                       'dummy_Books & Reference', 'dummy_Finance', 'dummy_Entertainment', 'dummy_Utilities', \n",
    "                       'dummy_Travel', 'dummy_Social Networking', 'dummy_Sports', 'dummy_Health & Fitness', \n",
    "                       'dummy_Photo & Video', 'dummy_Business', 'dummy_Education', 'dummy_Lifestyle', \n",
    "                       'dummy_Food & Drink', 'dummy_News', 'dummy_Navigation', 'dummy_Medical',\n",
    "                      'dummy_content_4+','dummy_content_9+','dummy_content_12+','dummy_content_17+']]\n",
    "\n",
    "apple_slog.head()"
   ]
  },
  {
   "cell_type": "code",
   "execution_count": 37,
   "metadata": {},
   "outputs": [
    {
     "data": {
      "text/html": [
       "<div>\n",
       "<style scoped>\n",
       "    .dataframe tbody tr th:only-of-type {\n",
       "        vertical-align: middle;\n",
       "    }\n",
       "\n",
       "    .dataframe tbody tr th {\n",
       "        vertical-align: top;\n",
       "    }\n",
       "\n",
       "    .dataframe thead th {\n",
       "        text-align: right;\n",
       "    }\n",
       "</style>\n",
       "<table border=\"1\" class=\"dataframe\">\n",
       "  <thead>\n",
       "    <tr style=\"text-align: right;\">\n",
       "      <th></th>\n",
       "      <th>rating_high</th>\n",
       "      <th>rating_count_ver</th>\n",
       "      <th>size_level</th>\n",
       "      <th>type</th>\n",
       "      <th>price_level</th>\n",
       "      <th>dummy_Games</th>\n",
       "      <th>dummy_Productivity</th>\n",
       "      <th>dummy_Weather</th>\n",
       "      <th>dummy_Shopping</th>\n",
       "      <th>dummy_Books &amp; Reference</th>\n",
       "      <th>...</th>\n",
       "      <th>dummy_Education</th>\n",
       "      <th>dummy_Lifestyle</th>\n",
       "      <th>dummy_Food &amp; Drink</th>\n",
       "      <th>dummy_News</th>\n",
       "      <th>dummy_Navigation</th>\n",
       "      <th>dummy_Medical</th>\n",
       "      <th>dummy_content_4+</th>\n",
       "      <th>dummy_content_9+</th>\n",
       "      <th>dummy_content_12+</th>\n",
       "      <th>dummy_content_17+</th>\n",
       "    </tr>\n",
       "  </thead>\n",
       "  <tbody>\n",
       "    <tr>\n",
       "      <th>0</th>\n",
       "      <td>1</td>\n",
       "      <td>26</td>\n",
       "      <td>2</td>\n",
       "      <td>1</td>\n",
       "      <td>3</td>\n",
       "      <td>1</td>\n",
       "      <td>0</td>\n",
       "      <td>0</td>\n",
       "      <td>0</td>\n",
       "      <td>0</td>\n",
       "      <td>...</td>\n",
       "      <td>0</td>\n",
       "      <td>0</td>\n",
       "      <td>0</td>\n",
       "      <td>0</td>\n",
       "      <td>0</td>\n",
       "      <td>0</td>\n",
       "      <td>1</td>\n",
       "      <td>0</td>\n",
       "      <td>0</td>\n",
       "      <td>0</td>\n",
       "    </tr>\n",
       "    <tr>\n",
       "      <th>1</th>\n",
       "      <td>0</td>\n",
       "      <td>26</td>\n",
       "      <td>3</td>\n",
       "      <td>0</td>\n",
       "      <td>0</td>\n",
       "      <td>0</td>\n",
       "      <td>1</td>\n",
       "      <td>0</td>\n",
       "      <td>0</td>\n",
       "      <td>0</td>\n",
       "      <td>...</td>\n",
       "      <td>0</td>\n",
       "      <td>0</td>\n",
       "      <td>0</td>\n",
       "      <td>0</td>\n",
       "      <td>0</td>\n",
       "      <td>0</td>\n",
       "      <td>1</td>\n",
       "      <td>0</td>\n",
       "      <td>0</td>\n",
       "      <td>0</td>\n",
       "    </tr>\n",
       "    <tr>\n",
       "      <th>2</th>\n",
       "      <td>1</td>\n",
       "      <td>2822</td>\n",
       "      <td>2</td>\n",
       "      <td>0</td>\n",
       "      <td>0</td>\n",
       "      <td>0</td>\n",
       "      <td>0</td>\n",
       "      <td>1</td>\n",
       "      <td>0</td>\n",
       "      <td>0</td>\n",
       "      <td>...</td>\n",
       "      <td>0</td>\n",
       "      <td>0</td>\n",
       "      <td>0</td>\n",
       "      <td>0</td>\n",
       "      <td>0</td>\n",
       "      <td>0</td>\n",
       "      <td>1</td>\n",
       "      <td>0</td>\n",
       "      <td>0</td>\n",
       "      <td>0</td>\n",
       "    </tr>\n",
       "    <tr>\n",
       "      <th>3</th>\n",
       "      <td>1</td>\n",
       "      <td>649</td>\n",
       "      <td>3</td>\n",
       "      <td>0</td>\n",
       "      <td>0</td>\n",
       "      <td>0</td>\n",
       "      <td>0</td>\n",
       "      <td>0</td>\n",
       "      <td>1</td>\n",
       "      <td>0</td>\n",
       "      <td>...</td>\n",
       "      <td>0</td>\n",
       "      <td>0</td>\n",
       "      <td>0</td>\n",
       "      <td>0</td>\n",
       "      <td>0</td>\n",
       "      <td>0</td>\n",
       "      <td>0</td>\n",
       "      <td>0</td>\n",
       "      <td>1</td>\n",
       "      <td>0</td>\n",
       "    </tr>\n",
       "    <tr>\n",
       "      <th>4</th>\n",
       "      <td>1</td>\n",
       "      <td>5320</td>\n",
       "      <td>2</td>\n",
       "      <td>0</td>\n",
       "      <td>0</td>\n",
       "      <td>0</td>\n",
       "      <td>0</td>\n",
       "      <td>0</td>\n",
       "      <td>0</td>\n",
       "      <td>1</td>\n",
       "      <td>...</td>\n",
       "      <td>0</td>\n",
       "      <td>0</td>\n",
       "      <td>0</td>\n",
       "      <td>0</td>\n",
       "      <td>0</td>\n",
       "      <td>0</td>\n",
       "      <td>1</td>\n",
       "      <td>0</td>\n",
       "      <td>0</td>\n",
       "      <td>0</td>\n",
       "    </tr>\n",
       "  </tbody>\n",
       "</table>\n",
       "<p>5 rows × 29 columns</p>\n",
       "</div>"
      ],
      "text/plain": [
       "   rating_high  rating_count_ver  size_level  type  price_level  dummy_Games  \\\n",
       "0            1                26           2     1            3            1   \n",
       "1            0                26           3     0            0            0   \n",
       "2            1              2822           2     0            0            0   \n",
       "3            1               649           3     0            0            0   \n",
       "4            1              5320           2     0            0            0   \n",
       "\n",
       "   dummy_Productivity  dummy_Weather  dummy_Shopping  dummy_Books & Reference  \\\n",
       "0                   0              0               0                        0   \n",
       "1                   1              0               0                        0   \n",
       "2                   0              1               0                        0   \n",
       "3                   0              0               1                        0   \n",
       "4                   0              0               0                        1   \n",
       "\n",
       "   ...  dummy_Education  dummy_Lifestyle  dummy_Food & Drink  dummy_News  \\\n",
       "0  ...                0                0                   0           0   \n",
       "1  ...                0                0                   0           0   \n",
       "2  ...                0                0                   0           0   \n",
       "3  ...                0                0                   0           0   \n",
       "4  ...                0                0                   0           0   \n",
       "\n",
       "   dummy_Navigation  dummy_Medical  dummy_content_4+  dummy_content_9+  \\\n",
       "0                 0              0                 1                 0   \n",
       "1                 0              0                 1                 0   \n",
       "2                 0              0                 1                 0   \n",
       "3                 0              0                 0                 0   \n",
       "4                 0              0                 1                 0   \n",
       "\n",
       "   dummy_content_12+  dummy_content_17+  \n",
       "0                  0                  0  \n",
       "1                  0                  0  \n",
       "2                  0                  0  \n",
       "3                  1                  0  \n",
       "4                  0                  0  \n",
       "\n",
       "[5 rows x 29 columns]"
      ]
     },
     "execution_count": 37,
     "metadata": {},
     "output_type": "execute_result"
    }
   ],
   "source": [
    "#size_level\n",
    "apple_slevel = apple.drop(['app','size_log'],axis=1)\n",
    "\n",
    "apple_slevel = apple[['rating_high','rating_count_ver','size_level','type','price_level',\n",
    "                      'dummy_Games','dummy_Productivity','dummy_Weather', 'dummy_Shopping', \n",
    "                       'dummy_Books & Reference', 'dummy_Finance', 'dummy_Entertainment', 'dummy_Utilities', \n",
    "                       'dummy_Travel', 'dummy_Social Networking', 'dummy_Sports', 'dummy_Health & Fitness', \n",
    "                       'dummy_Photo & Video', 'dummy_Business', 'dummy_Education', 'dummy_Lifestyle', \n",
    "                       'dummy_Food & Drink', 'dummy_News', 'dummy_Navigation', 'dummy_Medical',\n",
    "                      'dummy_content_4+','dummy_content_9+','dummy_content_12+','dummy_content_17+']]\n",
    "\n",
    "apple_slevel.head()"
   ]
  },
  {
   "cell_type": "markdown",
   "metadata": {},
   "source": [
    "<h2>Google</h2>"
   ]
  },
  {
   "cell_type": "code",
   "execution_count": 38,
   "metadata": {},
   "outputs": [],
   "source": [
    "google = pd.read_csv('google.csv')\n",
    "google = google[google.columns[1:]]"
   ]
  },
  {
   "cell_type": "code",
   "execution_count": 39,
   "metadata": {},
   "outputs": [
    {
     "name": "stdout",
     "output_type": "stream",
     "text": [
      "<class 'pandas.core.frame.DataFrame'>\n",
      "RangeIndex: 8196 entries, 0 to 8195\n",
      "Data columns (total 9 columns):\n",
      "app             8196 non-null object\n",
      "rating          8196 non-null float64\n",
      "rating_count    8196 non-null int64\n",
      "size            7027 non-null float64\n",
      "installs        8196 non-null int64\n",
      "type            8196 non-null object\n",
      "price           8196 non-null float64\n",
      "content         8196 non-null object\n",
      "category        8196 non-null object\n",
      "dtypes: float64(3), int64(2), object(4)\n",
      "memory usage: 576.4+ KB\n"
     ]
    }
   ],
   "source": [
    "google.info()"
   ]
  },
  {
   "cell_type": "code",
   "execution_count": 40,
   "metadata": {},
   "outputs": [],
   "source": [
    "#Many apps have size missing - vary by device -> replace with category average\n",
    "gnull = google[google['size'].isnull()]"
   ]
  },
  {
   "cell_type": "code",
   "execution_count": 41,
   "metadata": {},
   "outputs": [
    {
     "data": {
      "text/plain": [
       "Int64Index([  36,   41,   51,   66,   67,   72,   84,   87,   88,   91,\n",
       "            ...\n",
       "            8072, 8088, 8090, 8104, 8107, 8108, 8118, 8144, 8184, 8194],\n",
       "           dtype='int64', length=1169)"
      ]
     },
     "execution_count": 41,
     "metadata": {},
     "output_type": "execute_result"
    }
   ],
   "source": [
    "gnull.index"
   ]
  },
  {
   "cell_type": "code",
   "execution_count": 42,
   "metadata": {},
   "outputs": [],
   "source": [
    "for i in list(gnull.index):\n",
    "    category_match = google.iloc[i]['category']\n",
    "    google.iloc[i] = google.iloc[i].fillna(google[google['category']==category_match]['size'].describe()['mean'])"
   ]
  },
  {
   "cell_type": "code",
   "execution_count": 43,
   "metadata": {},
   "outputs": [
    {
     "name": "stdout",
     "output_type": "stream",
     "text": [
      "<class 'pandas.core.frame.DataFrame'>\n",
      "RangeIndex: 8196 entries, 0 to 8195\n",
      "Data columns (total 9 columns):\n",
      "app             8196 non-null object\n",
      "rating          8196 non-null float64\n",
      "rating_count    8196 non-null int64\n",
      "size            8196 non-null float64\n",
      "installs        8196 non-null int64\n",
      "type            8196 non-null object\n",
      "price           8196 non-null float64\n",
      "content         8196 non-null object\n",
      "category        8196 non-null object\n",
      "dtypes: float64(3), int64(2), object(4)\n",
      "memory usage: 576.4+ KB\n"
     ]
    }
   ],
   "source": [
    "google.info()\n",
    "#all caught up :)"
   ]
  },
  {
   "cell_type": "code",
   "execution_count": 44,
   "metadata": {},
   "outputs": [
    {
     "data": {
      "text/plain": [
       "count    8196.000000\n",
       "mean       21.413007\n",
       "std        21.301297\n",
       "min         0.008500\n",
       "25%         5.800000\n",
       "50%        15.000000\n",
       "75%        28.105861\n",
       "max       100.000000\n",
       "Name: size, dtype: float64"
      ]
     },
     "execution_count": 44,
     "metadata": {},
     "output_type": "execute_result"
    }
   ],
   "source": [
    "google['size'].describe()"
   ]
  },
  {
   "cell_type": "code",
   "execution_count": 45,
   "metadata": {},
   "outputs": [
    {
     "data": {
      "image/png": "[encoded data removed]",
      "text/plain": [
       "<Figure size 432x288 with 1 Axes>"
      ]
     },
     "metadata": {
      "needs_background": "light"
     },
     "output_type": "display_data"
    }
   ],
   "source": [
    "stats.probplot(google['size'], dist=\"norm\", plot=pylab)\n",
    "pylab.show()\n",
    "#not very normal"
   ]
  },
  {
   "cell_type": "code",
   "execution_count": 46,
   "metadata": {},
   "outputs": [
    {
     "data": {
      "image/png": "[encoded data removed]",
      "text/plain": [
       "<Figure size 432x288 with 1 Axes>"
      ]
     },
     "metadata": {
      "needs_background": "light"
     },
     "output_type": "display_data"
    }
   ],
   "source": [
    "google['size_log'] = google['size'].apply(lambda x: math.log(x))\n",
    "\n",
    "stats.probplot(google['size_log'], dist=\"norm\", plot=pylab)\n",
    "pylab.show()"
   ]
  },
  {
   "cell_type": "code",
   "execution_count": 47,
   "metadata": {},
   "outputs": [
    {
     "name": "stdout",
     "output_type": "stream",
     "text": [
      "[  27   93  562 3639 3875] [-4.76768912 -2.89311726 -1.01854539  0.85602647  2.73059833  4.60517019]\n"
     ]
    }
   ],
   "source": [
    "Nbins=5\n",
    "hist_g, edges_g = np.histogram(google['size_log'], bins=Nbins)\n",
    "print(hist_g, edges_g)"
   ]
  },
  {
   "cell_type": "code",
   "execution_count": 48,
   "metadata": {},
   "outputs": [],
   "source": [
    "google['size_level'] = google['size_log'].apply(lambda x: 0 if (x >= edges_g[0])&(x < edges_g[1]) \n",
    "                                          else (1 if (x >= edges_g[1])&(x < edges_g[2]) \n",
    "                                                else (2 if (x >= edges_g[2])&(x < edges_g[3]) \n",
    "                                                      else (3 if (x >= edges_g[3])&(x < edges_g[4]) \n",
    "                                                            else 4))))"
   ]
  },
  {
   "cell_type": "code",
   "execution_count": 49,
   "metadata": {},
   "outputs": [
    {
     "data": {
      "text/plain": [
       "size_level\n",
       "0      27\n",
       "1      93\n",
       "2     562\n",
       "3    3639\n",
       "4    3875\n",
       "dtype: int64"
      ]
     },
     "execution_count": 49,
     "metadata": {},
     "output_type": "execute_result"
    }
   ],
   "source": [
    "google.groupby('size_level').size()"
   ]
  },
  {
   "cell_type": "code",
   "execution_count": 50,
   "metadata": {},
   "outputs": [],
   "source": [
    "google = google.drop(['size'],axis=1)"
   ]
  },
  {
   "cell_type": "code",
   "execution_count": 51,
   "metadata": {},
   "outputs": [
    {
     "data": {
      "text/html": [
       "<div>\n",
       "<style scoped>\n",
       "    .dataframe tbody tr th:only-of-type {\n",
       "        vertical-align: middle;\n",
       "    }\n",
       "\n",
       "    .dataframe tbody tr th {\n",
       "        vertical-align: top;\n",
       "    }\n",
       "\n",
       "    .dataframe thead th {\n",
       "        text-align: right;\n",
       "    }\n",
       "</style>\n",
       "<table border=\"1\" class=\"dataframe\">\n",
       "  <thead>\n",
       "    <tr style=\"text-align: right;\">\n",
       "      <th></th>\n",
       "      <th>app</th>\n",
       "      <th>rating</th>\n",
       "      <th>rating_count</th>\n",
       "      <th>installs</th>\n",
       "      <th>type</th>\n",
       "      <th>price</th>\n",
       "      <th>content</th>\n",
       "      <th>category</th>\n",
       "      <th>size_log</th>\n",
       "      <th>size_level</th>\n",
       "    </tr>\n",
       "  </thead>\n",
       "  <tbody>\n",
       "    <tr>\n",
       "      <th>0</th>\n",
       "      <td>Photo Editor &amp; Candy Camera &amp; Grid &amp; ScrapBook</td>\n",
       "      <td>4.1</td>\n",
       "      <td>159</td>\n",
       "      <td>10000</td>\n",
       "      <td>Free</td>\n",
       "      <td>0.0</td>\n",
       "      <td>4+</td>\n",
       "      <td>Lifestyle</td>\n",
       "      <td>2.944439</td>\n",
       "      <td>4</td>\n",
       "    </tr>\n",
       "    <tr>\n",
       "      <th>1</th>\n",
       "      <td>Coloring book moana</td>\n",
       "      <td>3.9</td>\n",
       "      <td>967</td>\n",
       "      <td>500000</td>\n",
       "      <td>Free</td>\n",
       "      <td>0.0</td>\n",
       "      <td>4+</td>\n",
       "      <td>Lifestyle</td>\n",
       "      <td>2.639057</td>\n",
       "      <td>3</td>\n",
       "    </tr>\n",
       "    <tr>\n",
       "      <th>2</th>\n",
       "      <td>U Launcher Lite – FREE Live Cool Themes, Hide ...</td>\n",
       "      <td>4.7</td>\n",
       "      <td>87510</td>\n",
       "      <td>5000000</td>\n",
       "      <td>Free</td>\n",
       "      <td>0.0</td>\n",
       "      <td>4+</td>\n",
       "      <td>Lifestyle</td>\n",
       "      <td>2.163323</td>\n",
       "      <td>3</td>\n",
       "    </tr>\n",
       "    <tr>\n",
       "      <th>3</th>\n",
       "      <td>Sketch - Draw &amp; Paint</td>\n",
       "      <td>4.5</td>\n",
       "      <td>215644</td>\n",
       "      <td>50000000</td>\n",
       "      <td>Free</td>\n",
       "      <td>0.0</td>\n",
       "      <td>12+</td>\n",
       "      <td>Lifestyle</td>\n",
       "      <td>3.218876</td>\n",
       "      <td>4</td>\n",
       "    </tr>\n",
       "    <tr>\n",
       "      <th>4</th>\n",
       "      <td>Pixel Draw - Number Art Coloring Book</td>\n",
       "      <td>4.3</td>\n",
       "      <td>967</td>\n",
       "      <td>100000</td>\n",
       "      <td>Free</td>\n",
       "      <td>0.0</td>\n",
       "      <td>4+</td>\n",
       "      <td>Lifestyle</td>\n",
       "      <td>1.029619</td>\n",
       "      <td>3</td>\n",
       "    </tr>\n",
       "  </tbody>\n",
       "</table>\n",
       "</div>"
      ],
      "text/plain": [
       "                                                 app  rating  rating_count  \\\n",
       "0     Photo Editor & Candy Camera & Grid & ScrapBook     4.1           159   \n",
       "1                                Coloring book moana     3.9           967   \n",
       "2  U Launcher Lite – FREE Live Cool Themes, Hide ...     4.7         87510   \n",
       "3                              Sketch - Draw & Paint     4.5        215644   \n",
       "4              Pixel Draw - Number Art Coloring Book     4.3           967   \n",
       "\n",
       "   installs  type  price content   category  size_log  size_level  \n",
       "0     10000  Free    0.0      4+  Lifestyle  2.944439           4  \n",
       "1    500000  Free    0.0      4+  Lifestyle  2.639057           3  \n",
       "2   5000000  Free    0.0      4+  Lifestyle  2.163323           3  \n",
       "3  50000000  Free    0.0     12+  Lifestyle  3.218876           4  \n",
       "4    100000  Free    0.0      4+  Lifestyle  1.029619           3  "
      ]
     },
     "execution_count": 51,
     "metadata": {},
     "output_type": "execute_result"
    }
   ],
   "source": [
    "google.head()"
   ]
  },
  {
   "cell_type": "code",
   "execution_count": 52,
   "metadata": {},
   "outputs": [],
   "source": [
    "#convert type to dummy: Free=0, Paid=1\n",
    "google['type']=np.where(google['type']=='Free',0,1)"
   ]
  },
  {
   "cell_type": "code",
   "execution_count": 53,
   "metadata": {},
   "outputs": [
    {
     "data": {
      "text/plain": [
       "count    8196.000000\n",
       "mean        1.037884\n",
       "std        16.857882\n",
       "min         0.000000\n",
       "25%         0.000000\n",
       "50%         0.000000\n",
       "75%         0.000000\n",
       "max       400.000000\n",
       "Name: price, dtype: float64"
      ]
     },
     "execution_count": 53,
     "metadata": {},
     "output_type": "execute_result"
    }
   ],
   "source": [
    "google['price'].describe()\n",
    "#outlier"
   ]
  },
  {
   "cell_type": "code",
   "execution_count": 54,
   "metadata": {},
   "outputs": [
    {
     "data": {
      "text/html": [
       "<div>\n",
       "<style scoped>\n",
       "    .dataframe tbody tr th:only-of-type {\n",
       "        vertical-align: middle;\n",
       "    }\n",
       "\n",
       "    .dataframe tbody tr th {\n",
       "        vertical-align: top;\n",
       "    }\n",
       "\n",
       "    .dataframe thead th {\n",
       "        text-align: right;\n",
       "    }\n",
       "</style>\n",
       "<table border=\"1\" class=\"dataframe\">\n",
       "  <thead>\n",
       "    <tr style=\"text-align: right;\">\n",
       "      <th></th>\n",
       "      <th>app</th>\n",
       "      <th>rating</th>\n",
       "      <th>rating_count</th>\n",
       "      <th>installs</th>\n",
       "      <th>type</th>\n",
       "      <th>price</th>\n",
       "      <th>content</th>\n",
       "      <th>category</th>\n",
       "      <th>size_log</th>\n",
       "      <th>size_level</th>\n",
       "    </tr>\n",
       "  </thead>\n",
       "  <tbody>\n",
       "    <tr>\n",
       "      <th>1675</th>\n",
       "      <td>Vargo Anesthesia Mega App</td>\n",
       "      <td>4.6</td>\n",
       "      <td>92</td>\n",
       "      <td>1000</td>\n",
       "      <td>1</td>\n",
       "      <td>79.99</td>\n",
       "      <td>4+</td>\n",
       "      <td>Medical</td>\n",
       "      <td>3.465736</td>\n",
       "      <td>4</td>\n",
       "    </tr>\n",
       "    <tr>\n",
       "      <th>3177</th>\n",
       "      <td>most expensive app (H)</td>\n",
       "      <td>4.3</td>\n",
       "      <td>6</td>\n",
       "      <td>100</td>\n",
       "      <td>1</td>\n",
       "      <td>399.99</td>\n",
       "      <td>4+</td>\n",
       "      <td>Entertainment</td>\n",
       "      <td>0.405465</td>\n",
       "      <td>2</td>\n",
       "    </tr>\n",
       "    <tr>\n",
       "      <th>3303</th>\n",
       "      <td>💎 I'm rich</td>\n",
       "      <td>3.8</td>\n",
       "      <td>718</td>\n",
       "      <td>10000</td>\n",
       "      <td>1</td>\n",
       "      <td>399.99</td>\n",
       "      <td>4+</td>\n",
       "      <td>Lifestyle</td>\n",
       "      <td>3.258097</td>\n",
       "      <td>4</td>\n",
       "    </tr>\n",
       "    <tr>\n",
       "      <th>3307</th>\n",
       "      <td>I'm Rich - Trump Edition</td>\n",
       "      <td>3.6</td>\n",
       "      <td>275</td>\n",
       "      <td>10000</td>\n",
       "      <td>1</td>\n",
       "      <td>400.00</td>\n",
       "      <td>4+</td>\n",
       "      <td>Lifestyle</td>\n",
       "      <td>1.987874</td>\n",
       "      <td>3</td>\n",
       "    </tr>\n",
       "    <tr>\n",
       "      <th>4101</th>\n",
       "      <td>I am rich</td>\n",
       "      <td>3.8</td>\n",
       "      <td>3547</td>\n",
       "      <td>100000</td>\n",
       "      <td>1</td>\n",
       "      <td>399.99</td>\n",
       "      <td>4+</td>\n",
       "      <td>Lifestyle</td>\n",
       "      <td>0.587787</td>\n",
       "      <td>2</td>\n",
       "    </tr>\n",
       "    <tr>\n",
       "      <th>4103</th>\n",
       "      <td>I am Rich Plus</td>\n",
       "      <td>4.0</td>\n",
       "      <td>856</td>\n",
       "      <td>10000</td>\n",
       "      <td>1</td>\n",
       "      <td>399.99</td>\n",
       "      <td>4+</td>\n",
       "      <td>Entertainment</td>\n",
       "      <td>2.163323</td>\n",
       "      <td>3</td>\n",
       "    </tr>\n",
       "    <tr>\n",
       "      <th>4104</th>\n",
       "      <td>I am rich VIP</td>\n",
       "      <td>3.8</td>\n",
       "      <td>411</td>\n",
       "      <td>10000</td>\n",
       "      <td>1</td>\n",
       "      <td>299.99</td>\n",
       "      <td>4+</td>\n",
       "      <td>Lifestyle</td>\n",
       "      <td>0.955511</td>\n",
       "      <td>3</td>\n",
       "    </tr>\n",
       "    <tr>\n",
       "      <th>4105</th>\n",
       "      <td>I Am Rich Premium</td>\n",
       "      <td>4.1</td>\n",
       "      <td>1867</td>\n",
       "      <td>50000</td>\n",
       "      <td>1</td>\n",
       "      <td>399.99</td>\n",
       "      <td>4+</td>\n",
       "      <td>Finance</td>\n",
       "      <td>1.547563</td>\n",
       "      <td>3</td>\n",
       "    </tr>\n",
       "    <tr>\n",
       "      <th>4106</th>\n",
       "      <td>I am extremely Rich</td>\n",
       "      <td>2.9</td>\n",
       "      <td>41</td>\n",
       "      <td>1000</td>\n",
       "      <td>1</td>\n",
       "      <td>379.99</td>\n",
       "      <td>4+</td>\n",
       "      <td>Lifestyle</td>\n",
       "      <td>1.064711</td>\n",
       "      <td>3</td>\n",
       "    </tr>\n",
       "    <tr>\n",
       "      <th>4107</th>\n",
       "      <td>I am Rich!</td>\n",
       "      <td>3.8</td>\n",
       "      <td>93</td>\n",
       "      <td>1000</td>\n",
       "      <td>1</td>\n",
       "      <td>399.99</td>\n",
       "      <td>4+</td>\n",
       "      <td>Finance</td>\n",
       "      <td>3.091042</td>\n",
       "      <td>4</td>\n",
       "    </tr>\n",
       "    <tr>\n",
       "      <th>4108</th>\n",
       "      <td>I am rich(premium)</td>\n",
       "      <td>3.5</td>\n",
       "      <td>472</td>\n",
       "      <td>5000</td>\n",
       "      <td>1</td>\n",
       "      <td>399.99</td>\n",
       "      <td>4+</td>\n",
       "      <td>Finance</td>\n",
       "      <td>-0.035627</td>\n",
       "      <td>2</td>\n",
       "    </tr>\n",
       "    <tr>\n",
       "      <th>4111</th>\n",
       "      <td>I Am Rich Pro</td>\n",
       "      <td>4.4</td>\n",
       "      <td>201</td>\n",
       "      <td>5000</td>\n",
       "      <td>1</td>\n",
       "      <td>399.99</td>\n",
       "      <td>4+</td>\n",
       "      <td>Entertainment</td>\n",
       "      <td>0.993252</td>\n",
       "      <td>3</td>\n",
       "    </tr>\n",
       "    <tr>\n",
       "      <th>4113</th>\n",
       "      <td>I am rich (Most expensive app)</td>\n",
       "      <td>4.1</td>\n",
       "      <td>129</td>\n",
       "      <td>1000</td>\n",
       "      <td>1</td>\n",
       "      <td>399.99</td>\n",
       "      <td>12+</td>\n",
       "      <td>Finance</td>\n",
       "      <td>0.993252</td>\n",
       "      <td>3</td>\n",
       "    </tr>\n",
       "    <tr>\n",
       "      <th>4115</th>\n",
       "      <td>I Am Rich</td>\n",
       "      <td>3.6</td>\n",
       "      <td>217</td>\n",
       "      <td>10000</td>\n",
       "      <td>1</td>\n",
       "      <td>389.99</td>\n",
       "      <td>4+</td>\n",
       "      <td>Entertainment</td>\n",
       "      <td>1.589235</td>\n",
       "      <td>3</td>\n",
       "    </tr>\n",
       "    <tr>\n",
       "      <th>4118</th>\n",
       "      <td>I am Rich</td>\n",
       "      <td>4.3</td>\n",
       "      <td>180</td>\n",
       "      <td>5000</td>\n",
       "      <td>1</td>\n",
       "      <td>399.99</td>\n",
       "      <td>4+</td>\n",
       "      <td>Finance</td>\n",
       "      <td>1.335001</td>\n",
       "      <td>3</td>\n",
       "    </tr>\n",
       "    <tr>\n",
       "      <th>4122</th>\n",
       "      <td>I AM RICH PRO PLUS</td>\n",
       "      <td>4.0</td>\n",
       "      <td>36</td>\n",
       "      <td>1000</td>\n",
       "      <td>1</td>\n",
       "      <td>399.99</td>\n",
       "      <td>4+</td>\n",
       "      <td>Finance</td>\n",
       "      <td>3.713572</td>\n",
       "      <td>4</td>\n",
       "    </tr>\n",
       "  </tbody>\n",
       "</table>\n",
       "</div>"
      ],
      "text/plain": [
       "                                 app  rating  rating_count  installs  type  \\\n",
       "1675       Vargo Anesthesia Mega App     4.6            92      1000     1   \n",
       "3177          most expensive app (H)     4.3             6       100     1   \n",
       "3303                      💎 I'm rich     3.8           718     10000     1   \n",
       "3307        I'm Rich - Trump Edition     3.6           275     10000     1   \n",
       "4101                       I am rich     3.8          3547    100000     1   \n",
       "4103                  I am Rich Plus     4.0           856     10000     1   \n",
       "4104                   I am rich VIP     3.8           411     10000     1   \n",
       "4105               I Am Rich Premium     4.1          1867     50000     1   \n",
       "4106             I am extremely Rich     2.9            41      1000     1   \n",
       "4107                      I am Rich!     3.8            93      1000     1   \n",
       "4108              I am rich(premium)     3.5           472      5000     1   \n",
       "4111                   I Am Rich Pro     4.4           201      5000     1   \n",
       "4113  I am rich (Most expensive app)     4.1           129      1000     1   \n",
       "4115                       I Am Rich     3.6           217     10000     1   \n",
       "4118                       I am Rich     4.3           180      5000     1   \n",
       "4122              I AM RICH PRO PLUS     4.0            36      1000     1   \n",
       "\n",
       "       price content       category  size_log  size_level  \n",
       "1675   79.99      4+        Medical  3.465736           4  \n",
       "3177  399.99      4+  Entertainment  0.405465           2  \n",
       "3303  399.99      4+      Lifestyle  3.258097           4  \n",
       "3307  400.00      4+      Lifestyle  1.987874           3  \n",
       "4101  399.99      4+      Lifestyle  0.587787           2  \n",
       "4103  399.99      4+  Entertainment  2.163323           3  \n",
       "4104  299.99      4+      Lifestyle  0.955511           3  \n",
       "4105  399.99      4+        Finance  1.547563           3  \n",
       "4106  379.99      4+      Lifestyle  1.064711           3  \n",
       "4107  399.99      4+        Finance  3.091042           4  \n",
       "4108  399.99      4+        Finance -0.035627           2  \n",
       "4111  399.99      4+  Entertainment  0.993252           3  \n",
       "4113  399.99     12+        Finance  0.993252           3  \n",
       "4115  389.99      4+  Entertainment  1.589235           3  \n",
       "4118  399.99      4+        Finance  1.335001           3  \n",
       "4122  399.99      4+        Finance  3.713572           4  "
      ]
     },
     "execution_count": 54,
     "metadata": {},
     "output_type": "execute_result"
    }
   ],
   "source": [
    "google[google['price']>50]\n",
    "#the ones above 100 seem to be a scam?"
   ]
  },
  {
   "cell_type": "code",
   "execution_count": 55,
   "metadata": {},
   "outputs": [],
   "source": [
    "google = google[google['price']<100]"
   ]
  },
  {
   "cell_type": "code",
   "execution_count": 56,
   "metadata": {},
   "outputs": [
    {
     "data": {
      "text/plain": [
       "type\n",
       "0    7592\n",
       "1     589\n",
       "dtype: int64"
      ]
     },
     "execution_count": 56,
     "metadata": {},
     "output_type": "execute_result"
    }
   ],
   "source": [
    "google.groupby('type').size()\n",
    "#Paid app set too small to further split into groups - use Type only"
   ]
  },
  {
   "cell_type": "code",
   "execution_count": 57,
   "metadata": {},
   "outputs": [],
   "source": [
    "google = google.drop(['price'],axis=1)"
   ]
  },
  {
   "cell_type": "code",
   "execution_count": 58,
   "metadata": {},
   "outputs": [
    {
     "data": {
      "image/png": "[encoded data removed]",
      "text/plain": [
       "<Figure size 432x288 with 1 Axes>"
      ]
     },
     "metadata": {
      "needs_background": "light"
     },
     "output_type": "display_data"
    }
   ],
   "source": [
    "stats.probplot(google[\"rating_count\"], dist=\"norm\", plot=pylab)\n",
    "pylab.show()"
   ]
  },
  {
   "cell_type": "code",
   "execution_count": 59,
   "metadata": {},
   "outputs": [
    {
     "data": {
      "text/plain": [
       "count    8181.000000\n",
       "mean        4.173805\n",
       "std         0.536724\n",
       "min         1.000000\n",
       "25%         4.000000\n",
       "50%         4.300000\n",
       "75%         4.500000\n",
       "max         5.000000\n",
       "Name: rating, dtype: float64"
      ]
     },
     "execution_count": 59,
     "metadata": {},
     "output_type": "execute_result"
    }
   ],
   "source": [
    "google['rating'].describe()\n",
    "#in general, Play Store has a higher rating - lower 50% but higher mean"
   ]
  },
  {
   "cell_type": "code",
   "execution_count": 60,
   "metadata": {},
   "outputs": [],
   "source": [
    "#round down mean as the cutoff value\n",
    "google['rating_high']=np.where(google['rating']>4.2, 1, 0)"
   ]
  },
  {
   "cell_type": "code",
   "execution_count": 61,
   "metadata": {},
   "outputs": [],
   "source": [
    "google = google.drop(['rating'],axis=1)"
   ]
  },
  {
   "cell_type": "code",
   "execution_count": 62,
   "metadata": {},
   "outputs": [
    {
     "name": "stdout",
     "output_type": "stream",
     "text": [
      "['Lifestyle' 'Games' 'Photo & Video' 'Books & Reference' 'Business'\n",
      " 'Social Networking' 'Education' 'Entertainment' 'Productivity' 'Finance'\n",
      " 'Food & Drink' 'Health & Fitness' 'Medical' 'Shopping' 'Sports' 'Travel'\n",
      " 'Utilities' 'Weather' 'News' 'Navigation']\n"
     ]
    }
   ],
   "source": [
    "#Create Dummies\n",
    "print(google['category'].unique())"
   ]
  },
  {
   "cell_type": "code",
   "execution_count": 63,
   "metadata": {},
   "outputs": [],
   "source": [
    "for i in google['category'].unique():\n",
    "    name = 'dummy_'+i\n",
    "    google[name] = np.where(google['category']==i,1,0)"
   ]
  },
  {
   "cell_type": "code",
   "execution_count": 64,
   "metadata": {},
   "outputs": [],
   "source": [
    "google = google.drop(['category'],axis=1)"
   ]
  },
  {
   "cell_type": "code",
   "execution_count": 65,
   "metadata": {},
   "outputs": [
    {
     "name": "stdout",
     "output_type": "stream",
     "text": [
      "['4+' '12+' '9+' '17+']\n"
     ]
    }
   ],
   "source": [
    "print(google['content'].unique())"
   ]
  },
  {
   "cell_type": "code",
   "execution_count": 66,
   "metadata": {},
   "outputs": [],
   "source": [
    "for i in google['content'].unique():\n",
    "    name = 'dummy_content_'+i\n",
    "    google[name] = np.where(google['content']==i,1,0)"
   ]
  },
  {
   "cell_type": "code",
   "execution_count": 67,
   "metadata": {},
   "outputs": [],
   "source": [
    "google = google.drop(['content'],axis=1)"
   ]
  },
  {
   "cell_type": "code",
   "execution_count": 68,
   "metadata": {},
   "outputs": [
    {
     "data": {
      "text/html": [
       "<div>\n",
       "<style scoped>\n",
       "    .dataframe tbody tr th:only-of-type {\n",
       "        vertical-align: middle;\n",
       "    }\n",
       "\n",
       "    .dataframe tbody tr th {\n",
       "        vertical-align: top;\n",
       "    }\n",
       "\n",
       "    .dataframe thead th {\n",
       "        text-align: right;\n",
       "    }\n",
       "</style>\n",
       "<table border=\"1\" class=\"dataframe\">\n",
       "  <thead>\n",
       "    <tr style=\"text-align: right;\">\n",
       "      <th></th>\n",
       "      <th>app</th>\n",
       "      <th>rating_count</th>\n",
       "      <th>installs</th>\n",
       "      <th>type</th>\n",
       "      <th>size_log</th>\n",
       "      <th>size_level</th>\n",
       "      <th>rating_high</th>\n",
       "      <th>dummy_Lifestyle</th>\n",
       "      <th>dummy_Games</th>\n",
       "      <th>dummy_Photo &amp; Video</th>\n",
       "      <th>...</th>\n",
       "      <th>dummy_Sports</th>\n",
       "      <th>dummy_Travel</th>\n",
       "      <th>dummy_Utilities</th>\n",
       "      <th>dummy_Weather</th>\n",
       "      <th>dummy_News</th>\n",
       "      <th>dummy_Navigation</th>\n",
       "      <th>dummy_content_4+</th>\n",
       "      <th>dummy_content_12+</th>\n",
       "      <th>dummy_content_9+</th>\n",
       "      <th>dummy_content_17+</th>\n",
       "    </tr>\n",
       "  </thead>\n",
       "  <tbody>\n",
       "    <tr>\n",
       "      <th>0</th>\n",
       "      <td>Photo Editor &amp; Candy Camera &amp; Grid &amp; ScrapBook</td>\n",
       "      <td>159</td>\n",
       "      <td>10000</td>\n",
       "      <td>0</td>\n",
       "      <td>2.944439</td>\n",
       "      <td>4</td>\n",
       "      <td>0</td>\n",
       "      <td>1</td>\n",
       "      <td>0</td>\n",
       "      <td>0</td>\n",
       "      <td>...</td>\n",
       "      <td>0</td>\n",
       "      <td>0</td>\n",
       "      <td>0</td>\n",
       "      <td>0</td>\n",
       "      <td>0</td>\n",
       "      <td>0</td>\n",
       "      <td>1</td>\n",
       "      <td>0</td>\n",
       "      <td>0</td>\n",
       "      <td>0</td>\n",
       "    </tr>\n",
       "    <tr>\n",
       "      <th>1</th>\n",
       "      <td>Coloring book moana</td>\n",
       "      <td>967</td>\n",
       "      <td>500000</td>\n",
       "      <td>0</td>\n",
       "      <td>2.639057</td>\n",
       "      <td>3</td>\n",
       "      <td>0</td>\n",
       "      <td>1</td>\n",
       "      <td>0</td>\n",
       "      <td>0</td>\n",
       "      <td>...</td>\n",
       "      <td>0</td>\n",
       "      <td>0</td>\n",
       "      <td>0</td>\n",
       "      <td>0</td>\n",
       "      <td>0</td>\n",
       "      <td>0</td>\n",
       "      <td>1</td>\n",
       "      <td>0</td>\n",
       "      <td>0</td>\n",
       "      <td>0</td>\n",
       "    </tr>\n",
       "    <tr>\n",
       "      <th>2</th>\n",
       "      <td>U Launcher Lite – FREE Live Cool Themes, Hide ...</td>\n",
       "      <td>87510</td>\n",
       "      <td>5000000</td>\n",
       "      <td>0</td>\n",
       "      <td>2.163323</td>\n",
       "      <td>3</td>\n",
       "      <td>1</td>\n",
       "      <td>1</td>\n",
       "      <td>0</td>\n",
       "      <td>0</td>\n",
       "      <td>...</td>\n",
       "      <td>0</td>\n",
       "      <td>0</td>\n",
       "      <td>0</td>\n",
       "      <td>0</td>\n",
       "      <td>0</td>\n",
       "      <td>0</td>\n",
       "      <td>1</td>\n",
       "      <td>0</td>\n",
       "      <td>0</td>\n",
       "      <td>0</td>\n",
       "    </tr>\n",
       "    <tr>\n",
       "      <th>3</th>\n",
       "      <td>Sketch - Draw &amp; Paint</td>\n",
       "      <td>215644</td>\n",
       "      <td>50000000</td>\n",
       "      <td>0</td>\n",
       "      <td>3.218876</td>\n",
       "      <td>4</td>\n",
       "      <td>1</td>\n",
       "      <td>1</td>\n",
       "      <td>0</td>\n",
       "      <td>0</td>\n",
       "      <td>...</td>\n",
       "      <td>0</td>\n",
       "      <td>0</td>\n",
       "      <td>0</td>\n",
       "      <td>0</td>\n",
       "      <td>0</td>\n",
       "      <td>0</td>\n",
       "      <td>0</td>\n",
       "      <td>1</td>\n",
       "      <td>0</td>\n",
       "      <td>0</td>\n",
       "    </tr>\n",
       "    <tr>\n",
       "      <th>4</th>\n",
       "      <td>Pixel Draw - Number Art Coloring Book</td>\n",
       "      <td>967</td>\n",
       "      <td>100000</td>\n",
       "      <td>0</td>\n",
       "      <td>1.029619</td>\n",
       "      <td>3</td>\n",
       "      <td>1</td>\n",
       "      <td>1</td>\n",
       "      <td>0</td>\n",
       "      <td>0</td>\n",
       "      <td>...</td>\n",
       "      <td>0</td>\n",
       "      <td>0</td>\n",
       "      <td>0</td>\n",
       "      <td>0</td>\n",
       "      <td>0</td>\n",
       "      <td>0</td>\n",
       "      <td>1</td>\n",
       "      <td>0</td>\n",
       "      <td>0</td>\n",
       "      <td>0</td>\n",
       "    </tr>\n",
       "  </tbody>\n",
       "</table>\n",
       "<p>5 rows × 31 columns</p>\n",
       "</div>"
      ],
      "text/plain": [
       "                                                 app  rating_count  installs  \\\n",
       "0     Photo Editor & Candy Camera & Grid & ScrapBook           159     10000   \n",
       "1                                Coloring book moana           967    500000   \n",
       "2  U Launcher Lite – FREE Live Cool Themes, Hide ...         87510   5000000   \n",
       "3                              Sketch - Draw & Paint        215644  50000000   \n",
       "4              Pixel Draw - Number Art Coloring Book           967    100000   \n",
       "\n",
       "   type  size_log  size_level  rating_high  dummy_Lifestyle  dummy_Games  \\\n",
       "0     0  2.944439           4            0                1            0   \n",
       "1     0  2.639057           3            0                1            0   \n",
       "2     0  2.163323           3            1                1            0   \n",
       "3     0  3.218876           4            1                1            0   \n",
       "4     0  1.029619           3            1                1            0   \n",
       "\n",
       "   dummy_Photo & Video  ...  dummy_Sports  dummy_Travel  dummy_Utilities  \\\n",
       "0                    0  ...             0             0                0   \n",
       "1                    0  ...             0             0                0   \n",
       "2                    0  ...             0             0                0   \n",
       "3                    0  ...             0             0                0   \n",
       "4                    0  ...             0             0                0   \n",
       "\n",
       "   dummy_Weather  dummy_News  dummy_Navigation  dummy_content_4+  \\\n",
       "0              0           0                 0                 1   \n",
       "1              0           0                 0                 1   \n",
       "2              0           0                 0                 1   \n",
       "3              0           0                 0                 0   \n",
       "4              0           0                 0                 1   \n",
       "\n",
       "   dummy_content_12+  dummy_content_9+  dummy_content_17+  \n",
       "0                  0                 0                  0  \n",
       "1                  0                 0                  0  \n",
       "2                  0                 0                  0  \n",
       "3                  1                 0                  0  \n",
       "4                  0                 0                  0  \n",
       "\n",
       "[5 rows x 31 columns]"
      ]
     },
     "execution_count": 68,
     "metadata": {},
     "output_type": "execute_result"
    }
   ],
   "source": [
    "google.head()\n",
    "#DV could be rating & installs\n",
    "#IV: size, price (binary as well), category, content, type\n",
    "#adjust for rating_count?"
   ]
  },
  {
   "cell_type": "code",
   "execution_count": 69,
   "metadata": {},
   "outputs": [],
   "source": [
    "#non-comparable with Apple\n",
    "google = google.drop(['installs'],axis=1)"
   ]
  },
  {
   "cell_type": "code",
   "execution_count": 71,
   "metadata": {},
   "outputs": [
    {
     "data": {
      "text/html": [
       "<div>\n",
       "<style scoped>\n",
       "    .dataframe tbody tr th:only-of-type {\n",
       "        vertical-align: middle;\n",
       "    }\n",
       "\n",
       "    .dataframe tbody tr th {\n",
       "        vertical-align: top;\n",
       "    }\n",
       "\n",
       "    .dataframe thead th {\n",
       "        text-align: right;\n",
       "    }\n",
       "</style>\n",
       "<table border=\"1\" class=\"dataframe\">\n",
       "  <thead>\n",
       "    <tr style=\"text-align: right;\">\n",
       "      <th></th>\n",
       "      <th>rating_high</th>\n",
       "      <th>rating_count</th>\n",
       "      <th>size_log</th>\n",
       "      <th>type</th>\n",
       "      <th>dummy_Games</th>\n",
       "      <th>dummy_Productivity</th>\n",
       "      <th>dummy_Weather</th>\n",
       "      <th>dummy_Shopping</th>\n",
       "      <th>dummy_Books &amp; Reference</th>\n",
       "      <th>dummy_Finance</th>\n",
       "      <th>...</th>\n",
       "      <th>dummy_Education</th>\n",
       "      <th>dummy_Lifestyle</th>\n",
       "      <th>dummy_Food &amp; Drink</th>\n",
       "      <th>dummy_News</th>\n",
       "      <th>dummy_Navigation</th>\n",
       "      <th>dummy_Medical</th>\n",
       "      <th>dummy_content_4+</th>\n",
       "      <th>dummy_content_9+</th>\n",
       "      <th>dummy_content_12+</th>\n",
       "      <th>dummy_content_17+</th>\n",
       "    </tr>\n",
       "  </thead>\n",
       "  <tbody>\n",
       "    <tr>\n",
       "      <th>0</th>\n",
       "      <td>0</td>\n",
       "      <td>159</td>\n",
       "      <td>2.944439</td>\n",
       "      <td>0</td>\n",
       "      <td>0</td>\n",
       "      <td>0</td>\n",
       "      <td>0</td>\n",
       "      <td>0</td>\n",
       "      <td>0</td>\n",
       "      <td>0</td>\n",
       "      <td>...</td>\n",
       "      <td>0</td>\n",
       "      <td>1</td>\n",
       "      <td>0</td>\n",
       "      <td>0</td>\n",
       "      <td>0</td>\n",
       "      <td>0</td>\n",
       "      <td>1</td>\n",
       "      <td>0</td>\n",
       "      <td>0</td>\n",
       "      <td>0</td>\n",
       "    </tr>\n",
       "    <tr>\n",
       "      <th>1</th>\n",
       "      <td>0</td>\n",
       "      <td>967</td>\n",
       "      <td>2.639057</td>\n",
       "      <td>0</td>\n",
       "      <td>0</td>\n",
       "      <td>0</td>\n",
       "      <td>0</td>\n",
       "      <td>0</td>\n",
       "      <td>0</td>\n",
       "      <td>0</td>\n",
       "      <td>...</td>\n",
       "      <td>0</td>\n",
       "      <td>1</td>\n",
       "      <td>0</td>\n",
       "      <td>0</td>\n",
       "      <td>0</td>\n",
       "      <td>0</td>\n",
       "      <td>1</td>\n",
       "      <td>0</td>\n",
       "      <td>0</td>\n",
       "      <td>0</td>\n",
       "    </tr>\n",
       "    <tr>\n",
       "      <th>2</th>\n",
       "      <td>1</td>\n",
       "      <td>87510</td>\n",
       "      <td>2.163323</td>\n",
       "      <td>0</td>\n",
       "      <td>0</td>\n",
       "      <td>0</td>\n",
       "      <td>0</td>\n",
       "      <td>0</td>\n",
       "      <td>0</td>\n",
       "      <td>0</td>\n",
       "      <td>...</td>\n",
       "      <td>0</td>\n",
       "      <td>1</td>\n",
       "      <td>0</td>\n",
       "      <td>0</td>\n",
       "      <td>0</td>\n",
       "      <td>0</td>\n",
       "      <td>1</td>\n",
       "      <td>0</td>\n",
       "      <td>0</td>\n",
       "      <td>0</td>\n",
       "    </tr>\n",
       "    <tr>\n",
       "      <th>3</th>\n",
       "      <td>1</td>\n",
       "      <td>215644</td>\n",
       "      <td>3.218876</td>\n",
       "      <td>0</td>\n",
       "      <td>0</td>\n",
       "      <td>0</td>\n",
       "      <td>0</td>\n",
       "      <td>0</td>\n",
       "      <td>0</td>\n",
       "      <td>0</td>\n",
       "      <td>...</td>\n",
       "      <td>0</td>\n",
       "      <td>1</td>\n",
       "      <td>0</td>\n",
       "      <td>0</td>\n",
       "      <td>0</td>\n",
       "      <td>0</td>\n",
       "      <td>0</td>\n",
       "      <td>0</td>\n",
       "      <td>1</td>\n",
       "      <td>0</td>\n",
       "    </tr>\n",
       "    <tr>\n",
       "      <th>4</th>\n",
       "      <td>1</td>\n",
       "      <td>967</td>\n",
       "      <td>1.029619</td>\n",
       "      <td>0</td>\n",
       "      <td>0</td>\n",
       "      <td>0</td>\n",
       "      <td>0</td>\n",
       "      <td>0</td>\n",
       "      <td>0</td>\n",
       "      <td>0</td>\n",
       "      <td>...</td>\n",
       "      <td>0</td>\n",
       "      <td>1</td>\n",
       "      <td>0</td>\n",
       "      <td>0</td>\n",
       "      <td>0</td>\n",
       "      <td>0</td>\n",
       "      <td>1</td>\n",
       "      <td>0</td>\n",
       "      <td>0</td>\n",
       "      <td>0</td>\n",
       "    </tr>\n",
       "  </tbody>\n",
       "</table>\n",
       "<p>5 rows × 28 columns</p>\n",
       "</div>"
      ],
      "text/plain": [
       "   rating_high  rating_count  size_log  type  dummy_Games  dummy_Productivity  \\\n",
       "0            0           159  2.944439     0            0                   0   \n",
       "1            0           967  2.639057     0            0                   0   \n",
       "2            1         87510  2.163323     0            0                   0   \n",
       "3            1        215644  3.218876     0            0                   0   \n",
       "4            1           967  1.029619     0            0                   0   \n",
       "\n",
       "   dummy_Weather  dummy_Shopping  dummy_Books & Reference  dummy_Finance  ...  \\\n",
       "0              0               0                        0              0  ...   \n",
       "1              0               0                        0              0  ...   \n",
       "2              0               0                        0              0  ...   \n",
       "3              0               0                        0              0  ...   \n",
       "4              0               0                        0              0  ...   \n",
       "\n",
       "   dummy_Education  dummy_Lifestyle  dummy_Food & Drink  dummy_News  \\\n",
       "0                0                1                   0           0   \n",
       "1                0                1                   0           0   \n",
       "2                0                1                   0           0   \n",
       "3                0                1                   0           0   \n",
       "4                0                1                   0           0   \n",
       "\n",
       "   dummy_Navigation  dummy_Medical  dummy_content_4+  dummy_content_9+  \\\n",
       "0                 0              0                 1                 0   \n",
       "1                 0              0                 1                 0   \n",
       "2                 0              0                 1                 0   \n",
       "3                 0              0                 0                 0   \n",
       "4                 0              0                 1                 0   \n",
       "\n",
       "   dummy_content_12+  dummy_content_17+  \n",
       "0                  0                  0  \n",
       "1                  0                  0  \n",
       "2                  0                  0  \n",
       "3                  1                  0  \n",
       "4                  0                  0  \n",
       "\n",
       "[5 rows x 28 columns]"
      ]
     },
     "execution_count": 71,
     "metadata": {},
     "output_type": "execute_result"
    }
   ],
   "source": [
    "#create two separate dataframes: current version & overall version ratings; price & price_level\n",
    "#drop size - keep log transformed sizes\n",
    "#drop category&content - use dummies only\n",
    "\n",
    "#log_size - continuous\n",
    "google_slog = google.drop(['app','size_level'],axis=1)\n",
    "\n",
    "google_slog = google[['rating_high','rating_count','size_log','type',\n",
    "                      'dummy_Games','dummy_Productivity','dummy_Weather', 'dummy_Shopping', \n",
    "                       'dummy_Books & Reference', 'dummy_Finance', 'dummy_Entertainment', 'dummy_Utilities', \n",
    "                       'dummy_Travel', 'dummy_Social Networking', 'dummy_Sports', 'dummy_Health & Fitness', \n",
    "                       'dummy_Photo & Video', 'dummy_Business', 'dummy_Education', 'dummy_Lifestyle', \n",
    "                       'dummy_Food & Drink', 'dummy_News', 'dummy_Navigation', 'dummy_Medical',\n",
    "                      'dummy_content_4+','dummy_content_9+','dummy_content_12+','dummy_content_17+']]\n",
    "\n",
    "google_slog.head()"
   ]
  },
  {
   "cell_type": "code",
   "execution_count": 72,
   "metadata": {},
   "outputs": [
    {
     "data": {
      "text/html": [
       "<div>\n",
       "<style scoped>\n",
       "    .dataframe tbody tr th:only-of-type {\n",
       "        vertical-align: middle;\n",
       "    }\n",
       "\n",
       "    .dataframe tbody tr th {\n",
       "        vertical-align: top;\n",
       "    }\n",
       "\n",
       "    .dataframe thead th {\n",
       "        text-align: right;\n",
       "    }\n",
       "</style>\n",
       "<table border=\"1\" class=\"dataframe\">\n",
       "  <thead>\n",
       "    <tr style=\"text-align: right;\">\n",
       "      <th></th>\n",
       "      <th>rating_high</th>\n",
       "      <th>rating_count</th>\n",
       "      <th>size_level</th>\n",
       "      <th>type</th>\n",
       "      <th>dummy_Games</th>\n",
       "      <th>dummy_Productivity</th>\n",
       "      <th>dummy_Weather</th>\n",
       "      <th>dummy_Shopping</th>\n",
       "      <th>dummy_Books &amp; Reference</th>\n",
       "      <th>dummy_Finance</th>\n",
       "      <th>...</th>\n",
       "      <th>dummy_Education</th>\n",
       "      <th>dummy_Lifestyle</th>\n",
       "      <th>dummy_Food &amp; Drink</th>\n",
       "      <th>dummy_News</th>\n",
       "      <th>dummy_Navigation</th>\n",
       "      <th>dummy_Medical</th>\n",
       "      <th>dummy_content_4+</th>\n",
       "      <th>dummy_content_9+</th>\n",
       "      <th>dummy_content_12+</th>\n",
       "      <th>dummy_content_17+</th>\n",
       "    </tr>\n",
       "  </thead>\n",
       "  <tbody>\n",
       "    <tr>\n",
       "      <th>0</th>\n",
       "      <td>0</td>\n",
       "      <td>159</td>\n",
       "      <td>4</td>\n",
       "      <td>0</td>\n",
       "      <td>0</td>\n",
       "      <td>0</td>\n",
       "      <td>0</td>\n",
       "      <td>0</td>\n",
       "      <td>0</td>\n",
       "      <td>0</td>\n",
       "      <td>...</td>\n",
       "      <td>0</td>\n",
       "      <td>1</td>\n",
       "      <td>0</td>\n",
       "      <td>0</td>\n",
       "      <td>0</td>\n",
       "      <td>0</td>\n",
       "      <td>1</td>\n",
       "      <td>0</td>\n",
       "      <td>0</td>\n",
       "      <td>0</td>\n",
       "    </tr>\n",
       "    <tr>\n",
       "      <th>1</th>\n",
       "      <td>0</td>\n",
       "      <td>967</td>\n",
       "      <td>3</td>\n",
       "      <td>0</td>\n",
       "      <td>0</td>\n",
       "      <td>0</td>\n",
       "      <td>0</td>\n",
       "      <td>0</td>\n",
       "      <td>0</td>\n",
       "      <td>0</td>\n",
       "      <td>...</td>\n",
       "      <td>0</td>\n",
       "      <td>1</td>\n",
       "      <td>0</td>\n",
       "      <td>0</td>\n",
       "      <td>0</td>\n",
       "      <td>0</td>\n",
       "      <td>1</td>\n",
       "      <td>0</td>\n",
       "      <td>0</td>\n",
       "      <td>0</td>\n",
       "    </tr>\n",
       "    <tr>\n",
       "      <th>2</th>\n",
       "      <td>1</td>\n",
       "      <td>87510</td>\n",
       "      <td>3</td>\n",
       "      <td>0</td>\n",
       "      <td>0</td>\n",
       "      <td>0</td>\n",
       "      <td>0</td>\n",
       "      <td>0</td>\n",
       "      <td>0</td>\n",
       "      <td>0</td>\n",
       "      <td>...</td>\n",
       "      <td>0</td>\n",
       "      <td>1</td>\n",
       "      <td>0</td>\n",
       "      <td>0</td>\n",
       "      <td>0</td>\n",
       "      <td>0</td>\n",
       "      <td>1</td>\n",
       "      <td>0</td>\n",
       "      <td>0</td>\n",
       "      <td>0</td>\n",
       "    </tr>\n",
       "    <tr>\n",
       "      <th>3</th>\n",
       "      <td>1</td>\n",
       "      <td>215644</td>\n",
       "      <td>4</td>\n",
       "      <td>0</td>\n",
       "      <td>0</td>\n",
       "      <td>0</td>\n",
       "      <td>0</td>\n",
       "      <td>0</td>\n",
       "      <td>0</td>\n",
       "      <td>0</td>\n",
       "      <td>...</td>\n",
       "      <td>0</td>\n",
       "      <td>1</td>\n",
       "      <td>0</td>\n",
       "      <td>0</td>\n",
       "      <td>0</td>\n",
       "      <td>0</td>\n",
       "      <td>0</td>\n",
       "      <td>0</td>\n",
       "      <td>1</td>\n",
       "      <td>0</td>\n",
       "    </tr>\n",
       "    <tr>\n",
       "      <th>4</th>\n",
       "      <td>1</td>\n",
       "      <td>967</td>\n",
       "      <td>3</td>\n",
       "      <td>0</td>\n",
       "      <td>0</td>\n",
       "      <td>0</td>\n",
       "      <td>0</td>\n",
       "      <td>0</td>\n",
       "      <td>0</td>\n",
       "      <td>0</td>\n",
       "      <td>...</td>\n",
       "      <td>0</td>\n",
       "      <td>1</td>\n",
       "      <td>0</td>\n",
       "      <td>0</td>\n",
       "      <td>0</td>\n",
       "      <td>0</td>\n",
       "      <td>1</td>\n",
       "      <td>0</td>\n",
       "      <td>0</td>\n",
       "      <td>0</td>\n",
       "    </tr>\n",
       "  </tbody>\n",
       "</table>\n",
       "<p>5 rows × 28 columns</p>\n",
       "</div>"
      ],
      "text/plain": [
       "   rating_high  rating_count  size_level  type  dummy_Games  \\\n",
       "0            0           159           4     0            0   \n",
       "1            0           967           3     0            0   \n",
       "2            1         87510           3     0            0   \n",
       "3            1        215644           4     0            0   \n",
       "4            1           967           3     0            0   \n",
       "\n",
       "   dummy_Productivity  dummy_Weather  dummy_Shopping  dummy_Books & Reference  \\\n",
       "0                   0              0               0                        0   \n",
       "1                   0              0               0                        0   \n",
       "2                   0              0               0                        0   \n",
       "3                   0              0               0                        0   \n",
       "4                   0              0               0                        0   \n",
       "\n",
       "   dummy_Finance  ...  dummy_Education  dummy_Lifestyle  dummy_Food & Drink  \\\n",
       "0              0  ...                0                1                   0   \n",
       "1              0  ...                0                1                   0   \n",
       "2              0  ...                0                1                   0   \n",
       "3              0  ...                0                1                   0   \n",
       "4              0  ...                0                1                   0   \n",
       "\n",
       "   dummy_News  dummy_Navigation  dummy_Medical  dummy_content_4+  \\\n",
       "0           0                 0              0                 1   \n",
       "1           0                 0              0                 1   \n",
       "2           0                 0              0                 1   \n",
       "3           0                 0              0                 0   \n",
       "4           0                 0              0                 1   \n",
       "\n",
       "   dummy_content_9+  dummy_content_12+  dummy_content_17+  \n",
       "0                 0                  0                  0  \n",
       "1                 0                  0                  0  \n",
       "2                 0                  0                  0  \n",
       "3                 0                  1                  0  \n",
       "4                 0                  0                  0  \n",
       "\n",
       "[5 rows x 28 columns]"
      ]
     },
     "execution_count": 72,
     "metadata": {},
     "output_type": "execute_result"
    }
   ],
   "source": [
    "#size_level\n",
    "google_slevel = google.drop(['app','installs','size_log'],axis=1)\n",
    "\n",
    "google_slevel = google[['rating_high','rating_count','size_level','type',\n",
    "                      'dummy_Games','dummy_Productivity','dummy_Weather', 'dummy_Shopping', \n",
    "                       'dummy_Books & Reference', 'dummy_Finance', 'dummy_Entertainment', 'dummy_Utilities', \n",
    "                       'dummy_Travel', 'dummy_Social Networking', 'dummy_Sports', 'dummy_Health & Fitness', \n",
    "                       'dummy_Photo & Video', 'dummy_Business', 'dummy_Education', 'dummy_Lifestyle', \n",
    "                       'dummy_Food & Drink', 'dummy_News', 'dummy_Navigation', 'dummy_Medical',\n",
    "                      'dummy_content_4+','dummy_content_9+','dummy_content_12+','dummy_content_17+']]\n",
    "\n",
    "google_slevel.head()"
   ]
  },
  {
   "cell_type": "markdown",
   "metadata": {},
   "source": [
    "<h1>Classification</h1>"
   ]
  },
  {
   "cell_type": "code",
   "execution_count": null,
   "metadata": {},
   "outputs": [],
   "source": [
    "# !pip install sklearn --upgrade"
   ]
  },
  {
   "cell_type": "code",
   "execution_count": 73,
   "metadata": {},
   "outputs": [],
   "source": [
    "from sklearn import linear_model \n",
    "from sklearn.model_selection import train_test_split"
   ]
  },
  {
   "cell_type": "code",
   "execution_count": 74,
   "metadata": {},
   "outputs": [],
   "source": [
    "lm = linear_model.LinearRegression()"
   ]
  },
  {
   "cell_type": "code",
   "execution_count": 75,
   "metadata": {},
   "outputs": [],
   "source": [
    "def get_classification(predictions,threshold):\n",
    "    classes = np.zeros_like(predictions)\n",
    "    for i in range(len(classes)):\n",
    "        if predictions[i] > threshold:\n",
    "            classes[i] = 1\n",
    "    return classes"
   ]
  },
  {
   "cell_type": "code",
   "execution_count": 76,
   "metadata": {},
   "outputs": [],
   "source": [
    "from sklearn.metrics import confusion_matrix\n",
    "\n",
    "def model_eval(true_y,predictions,threshold):\n",
    "#     from sklearn.metrics import confusion_matrix\n",
    "    tn, fp, fn, tp = confusion_matrix(true_y,get_classification(predictions,threshold)).ravel()\n",
    "    #tn = predict 0, actual 0\n",
    "    #fp = predict 1, actual 0\n",
    "    #fn = predict 0, actual 1\n",
    "    #tp = predict 1, actual 1\n",
    "    \n",
    "    precision = tp/(tp+fp)\n",
    "    recall = tp/(tp+fn)\n",
    "    fpr = fp/(fp+tn)\n",
    "    f_score = precision*recall/(precision+recall)*2\n",
    "    accuracy = (tp+tn)/(tp+tn+fp+fn)\n",
    "    \n",
    "    print(\"Precision:\\t\\t\\t%1.4f apps identified as high-rating apps are high rating\"%(precision))\n",
    "    print(\"Recall/TPR:\\t\\t\\t%1.4f proportion of high-rating apps correctly identified as high-rating\"%(recall))\n",
    "    print(\"False Positive Rate:\\t\\t%1.4f proportion of low-rating apps incorrectly identified as high-rating apps\"%(fpr))\n",
    "    print(\"f-score:\\t\\t\\t%1.4f tradeoff between precision and recall\"%(f_score))\n",
    "    print(\"Accuracy:\\t\\t\\t%1.4f how well the model has classified\"%(accuracy))\n",
    "    "
   ]
  },
  {
   "cell_type": "code",
   "execution_count": 77,
   "metadata": {},
   "outputs": [],
   "source": [
    "def model_accuracy(true_y, predictions, threshold):\n",
    "    tn, fp, fn, tp = confusion_matrix(true_y,get_classification(predictions,threshold)).ravel()\n",
    "    accuracy = (tp+tn)/(tp+tn+fp+fn)\n",
    "    print('Given threshold of', threshold, ', the model accuracy is', round(accuracy*100,2),'%.')"
   ]
  },
  {
   "cell_type": "code",
   "execution_count": 78,
   "metadata": {},
   "outputs": [],
   "source": [
    "#Find best threshold\n",
    "from sklearn.metrics import roc_curve, auc\n",
    "\n",
    "#testing - out-sample\n",
    "def get_roc(true_y, predictions):\n",
    "    (fpr, tpr, thresholds) = roc_curve(true_y, predictions)\n",
    "\n",
    "    area = auc(fpr,tpr)\n",
    "    plt.clf() #Clear the current figure\n",
    "    plt.plot(fpr,tpr,label=\"Out-Sample ROC Curve with area = %1.2f\"%area)\n",
    "\n",
    "    plt.plot([0, 1], [0, 1], 'k')\n",
    "    plt.xlim([0.0, 1.0])\n",
    "    plt.ylim([0.0, 1.0])\n",
    "    plt.xlabel('False Positive Rate')\n",
    "    plt.ylabel('True Positive Rate')\n",
    "    plt.title('Out sample ROC rocks versus mines')\n",
    "    plt.legend(loc=\"lower right\")\n",
    "    plt.show()\n"
   ]
  },
  {
   "cell_type": "code",
   "execution_count": 79,
   "metadata": {},
   "outputs": [],
   "source": [
    "def get_prcurve(true_y, predictions):\n",
    "    from sklearn.metrics import precision_recall_curve\n",
    "    # import matplotlib.pyplot as plt\n",
    "    from sklearn.metrics import average_precision_score\n",
    "\n",
    "    #precision, recall, thresholds = precision_recall_curve(y_train, training_predictions)\n",
    "    #average_precision = average_precision_score(y_train, training_predictions)\n",
    "\n",
    "\n",
    "    precision, recall, thresholds = precision_recall_curve(true_y, predictions)\n",
    "    average_precision = average_precision_score(true_y, predictions)\n",
    "\n",
    "    step_kwargs = ({'step' : 'post'})\n",
    "\n",
    "    plt.step(recall, precision, color='b', alpha=0.2,\n",
    "             where='post')\n",
    "    plt.fill_between(recall, precision, alpha=0.2, color='b', **step_kwargs)\n",
    "\n",
    "    plt.xlabel('Recall')\n",
    "    plt.ylabel('Precision')\n",
    "    plt.ylim([0.0, 1.05])\n",
    "    plt.xlim([0.0, 1.0])\n",
    "    plt.title('2-class Precision-Recall curve: AP={0:0.2f}'.format(average_precision))"
   ]
  },
  {
   "cell_type": "markdown",
   "metadata": {},
   "source": [
    "<h2>Apple</h2>"
   ]
  },
  {
   "cell_type": "code",
   "execution_count": 80,
   "metadata": {},
   "outputs": [
    {
     "name": "stdout",
     "output_type": "stream",
     "text": [
      "(29, 29) (29, 29)\n"
     ]
    }
   ],
   "source": [
    "print(apple_slog.corr().shape,\n",
    "      apple_slevel.corr().shape)"
   ]
  },
  {
   "cell_type": "code",
   "execution_count": 81,
   "metadata": {},
   "outputs": [
    {
     "data": {
      "image/png": "[encoded data removed]",
      "text/plain": [
       "<Figure size 432x288 with 1 Axes>"
      ]
     },
     "metadata": {
      "needs_background": "light"
     },
     "output_type": "display_data"
    }
   ],
   "source": [
    "plt.pcolor(apple_slog.corr(),cmap='coolwarm') #https://matplotlib.org/examples/color/colormaps_reference.html\n",
    "plt.show()"
   ]
  },
  {
   "cell_type": "code",
   "execution_count": 82,
   "metadata": {},
   "outputs": [
    {
     "data": {
      "image/png": "[encoded data removed]",
      "text/plain": [
       "<Figure size 432x288 with 1 Axes>"
      ]
     },
     "metadata": {
      "needs_background": "light"
     },
     "output_type": "display_data"
    }
   ],
   "source": [
    "plt.pcolor(apple_slevel.corr(),cmap='coolwarm') #https://matplotlib.org/examples/color/colormaps_reference.html\n",
    "plt.show()\n",
    "#Not much different - use size_level for more intuitive sense"
   ]
  },
  {
   "cell_type": "code",
   "execution_count": 83,
   "metadata": {},
   "outputs": [],
   "source": [
    "apple = apple_slevel"
   ]
  },
  {
   "cell_type": "code",
   "execution_count": 84,
   "metadata": {},
   "outputs": [],
   "source": [
    "#DV: Rating:high-low\n",
    "#IV:price/type, rating count, size_log, category dummies, content dummies\n",
    "\n",
    "train_a, test_a = train_test_split(apple, test_size = 0.3)\n",
    "\n",
    "x_train_a = train_a.iloc[:,1:]\n",
    "y_train_a = train_a[['rating_high']]\n",
    "x_test_a = test_a.iloc[:,1:]\n",
    "y_test_a = test_a[['rating_high']]"
   ]
  },
  {
   "cell_type": "code",
   "execution_count": 85,
   "metadata": {},
   "outputs": [
    {
     "data": {
      "text/html": [
       "<div>\n",
       "<style scoped>\n",
       "    .dataframe tbody tr th:only-of-type {\n",
       "        vertical-align: middle;\n",
       "    }\n",
       "\n",
       "    .dataframe tbody tr th {\n",
       "        vertical-align: top;\n",
       "    }\n",
       "\n",
       "    .dataframe thead th {\n",
       "        text-align: right;\n",
       "    }\n",
       "</style>\n",
       "<table border=\"1\" class=\"dataframe\">\n",
       "  <thead>\n",
       "    <tr style=\"text-align: right;\">\n",
       "      <th></th>\n",
       "      <th>rating_count_ver</th>\n",
       "      <th>size_level</th>\n",
       "      <th>type</th>\n",
       "      <th>price_level</th>\n",
       "      <th>dummy_Games</th>\n",
       "      <th>dummy_Productivity</th>\n",
       "      <th>dummy_Weather</th>\n",
       "      <th>dummy_Shopping</th>\n",
       "      <th>dummy_Books &amp; Reference</th>\n",
       "      <th>dummy_Finance</th>\n",
       "      <th>...</th>\n",
       "      <th>dummy_Education</th>\n",
       "      <th>dummy_Lifestyle</th>\n",
       "      <th>dummy_Food &amp; Drink</th>\n",
       "      <th>dummy_News</th>\n",
       "      <th>dummy_Navigation</th>\n",
       "      <th>dummy_Medical</th>\n",
       "      <th>dummy_content_4+</th>\n",
       "      <th>dummy_content_9+</th>\n",
       "      <th>dummy_content_12+</th>\n",
       "      <th>dummy_content_17+</th>\n",
       "    </tr>\n",
       "  </thead>\n",
       "  <tbody>\n",
       "    <tr>\n",
       "      <th>5294</th>\n",
       "      <td>11</td>\n",
       "      <td>3</td>\n",
       "      <td>1</td>\n",
       "      <td>1</td>\n",
       "      <td>1</td>\n",
       "      <td>0</td>\n",
       "      <td>0</td>\n",
       "      <td>0</td>\n",
       "      <td>0</td>\n",
       "      <td>0</td>\n",
       "      <td>...</td>\n",
       "      <td>0</td>\n",
       "      <td>0</td>\n",
       "      <td>0</td>\n",
       "      <td>0</td>\n",
       "      <td>0</td>\n",
       "      <td>0</td>\n",
       "      <td>1</td>\n",
       "      <td>0</td>\n",
       "      <td>0</td>\n",
       "      <td>0</td>\n",
       "    </tr>\n",
       "    <tr>\n",
       "      <th>2191</th>\n",
       "      <td>122</td>\n",
       "      <td>3</td>\n",
       "      <td>0</td>\n",
       "      <td>0</td>\n",
       "      <td>0</td>\n",
       "      <td>1</td>\n",
       "      <td>0</td>\n",
       "      <td>0</td>\n",
       "      <td>0</td>\n",
       "      <td>0</td>\n",
       "      <td>...</td>\n",
       "      <td>0</td>\n",
       "      <td>0</td>\n",
       "      <td>0</td>\n",
       "      <td>0</td>\n",
       "      <td>0</td>\n",
       "      <td>0</td>\n",
       "      <td>1</td>\n",
       "      <td>0</td>\n",
       "      <td>0</td>\n",
       "      <td>0</td>\n",
       "    </tr>\n",
       "    <tr>\n",
       "      <th>5683</th>\n",
       "      <td>6</td>\n",
       "      <td>3</td>\n",
       "      <td>1</td>\n",
       "      <td>1</td>\n",
       "      <td>1</td>\n",
       "      <td>0</td>\n",
       "      <td>0</td>\n",
       "      <td>0</td>\n",
       "      <td>0</td>\n",
       "      <td>0</td>\n",
       "      <td>...</td>\n",
       "      <td>0</td>\n",
       "      <td>0</td>\n",
       "      <td>0</td>\n",
       "      <td>0</td>\n",
       "      <td>0</td>\n",
       "      <td>0</td>\n",
       "      <td>0</td>\n",
       "      <td>0</td>\n",
       "      <td>1</td>\n",
       "      <td>0</td>\n",
       "    </tr>\n",
       "    <tr>\n",
       "      <th>3556</th>\n",
       "      <td>6</td>\n",
       "      <td>3</td>\n",
       "      <td>1</td>\n",
       "      <td>3</td>\n",
       "      <td>1</td>\n",
       "      <td>0</td>\n",
       "      <td>0</td>\n",
       "      <td>0</td>\n",
       "      <td>0</td>\n",
       "      <td>0</td>\n",
       "      <td>...</td>\n",
       "      <td>0</td>\n",
       "      <td>0</td>\n",
       "      <td>0</td>\n",
       "      <td>0</td>\n",
       "      <td>0</td>\n",
       "      <td>0</td>\n",
       "      <td>0</td>\n",
       "      <td>0</td>\n",
       "      <td>1</td>\n",
       "      <td>0</td>\n",
       "    </tr>\n",
       "    <tr>\n",
       "      <th>2246</th>\n",
       "      <td>4</td>\n",
       "      <td>2</td>\n",
       "      <td>1</td>\n",
       "      <td>1</td>\n",
       "      <td>0</td>\n",
       "      <td>0</td>\n",
       "      <td>0</td>\n",
       "      <td>0</td>\n",
       "      <td>0</td>\n",
       "      <td>0</td>\n",
       "      <td>...</td>\n",
       "      <td>0</td>\n",
       "      <td>0</td>\n",
       "      <td>0</td>\n",
       "      <td>0</td>\n",
       "      <td>0</td>\n",
       "      <td>0</td>\n",
       "      <td>1</td>\n",
       "      <td>0</td>\n",
       "      <td>0</td>\n",
       "      <td>0</td>\n",
       "    </tr>\n",
       "  </tbody>\n",
       "</table>\n",
       "<p>5 rows × 28 columns</p>\n",
       "</div>"
      ],
      "text/plain": [
       "      rating_count_ver  size_level  type  price_level  dummy_Games  \\\n",
       "5294                11           3     1            1            1   \n",
       "2191               122           3     0            0            0   \n",
       "5683                 6           3     1            1            1   \n",
       "3556                 6           3     1            3            1   \n",
       "2246                 4           2     1            1            0   \n",
       "\n",
       "      dummy_Productivity  dummy_Weather  dummy_Shopping  \\\n",
       "5294                   0              0               0   \n",
       "2191                   1              0               0   \n",
       "5683                   0              0               0   \n",
       "3556                   0              0               0   \n",
       "2246                   0              0               0   \n",
       "\n",
       "      dummy_Books & Reference  dummy_Finance  ...  dummy_Education  \\\n",
       "5294                        0              0  ...                0   \n",
       "2191                        0              0  ...                0   \n",
       "5683                        0              0  ...                0   \n",
       "3556                        0              0  ...                0   \n",
       "2246                        0              0  ...                0   \n",
       "\n",
       "      dummy_Lifestyle  dummy_Food & Drink  dummy_News  dummy_Navigation  \\\n",
       "5294                0                   0           0                 0   \n",
       "2191                0                   0           0                 0   \n",
       "5683                0                   0           0                 0   \n",
       "3556                0                   0           0                 0   \n",
       "2246                0                   0           0                 0   \n",
       "\n",
       "      dummy_Medical  dummy_content_4+  dummy_content_9+  dummy_content_12+  \\\n",
       "5294              0                 1                 0                  0   \n",
       "2191              0                 1                 0                  0   \n",
       "5683              0                 0                 0                  1   \n",
       "3556              0                 0                 0                  1   \n",
       "2246              0                 1                 0                  0   \n",
       "\n",
       "      dummy_content_17+  \n",
       "5294                  0  \n",
       "2191                  0  \n",
       "5683                  0  \n",
       "3556                  0  \n",
       "2246                  0  \n",
       "\n",
       "[5 rows x 28 columns]"
      ]
     },
     "execution_count": 85,
     "metadata": {},
     "output_type": "execute_result"
    }
   ],
   "source": [
    "x_test_a.head()"
   ]
  },
  {
   "cell_type": "code",
   "execution_count": 86,
   "metadata": {},
   "outputs": [
    {
     "data": {
      "text/html": [
       "<div>\n",
       "<style scoped>\n",
       "    .dataframe tbody tr th:only-of-type {\n",
       "        vertical-align: middle;\n",
       "    }\n",
       "\n",
       "    .dataframe tbody tr th {\n",
       "        vertical-align: top;\n",
       "    }\n",
       "\n",
       "    .dataframe thead th {\n",
       "        text-align: right;\n",
       "    }\n",
       "</style>\n",
       "<table border=\"1\" class=\"dataframe\">\n",
       "  <thead>\n",
       "    <tr style=\"text-align: right;\">\n",
       "      <th></th>\n",
       "      <th>rating_high</th>\n",
       "    </tr>\n",
       "  </thead>\n",
       "  <tbody>\n",
       "    <tr>\n",
       "      <th>5294</th>\n",
       "      <td>0</td>\n",
       "    </tr>\n",
       "    <tr>\n",
       "      <th>2191</th>\n",
       "      <td>1</td>\n",
       "    </tr>\n",
       "    <tr>\n",
       "      <th>5683</th>\n",
       "      <td>1</td>\n",
       "    </tr>\n",
       "    <tr>\n",
       "      <th>3556</th>\n",
       "      <td>0</td>\n",
       "    </tr>\n",
       "    <tr>\n",
       "      <th>2246</th>\n",
       "      <td>0</td>\n",
       "    </tr>\n",
       "  </tbody>\n",
       "</table>\n",
       "</div>"
      ],
      "text/plain": [
       "      rating_high\n",
       "5294            0\n",
       "2191            1\n",
       "5683            1\n",
       "3556            0\n",
       "2246            0"
      ]
     },
     "execution_count": 86,
     "metadata": {},
     "output_type": "execute_result"
    }
   ],
   "source": [
    "y_test_a[:5]"
   ]
  },
  {
   "cell_type": "code",
   "execution_count": 87,
   "metadata": {},
   "outputs": [
    {
     "data": {
      "text/plain": [
       "LinearRegression(copy_X=True, fit_intercept=True, n_jobs=None,\n",
       "         normalize=False)"
      ]
     },
     "execution_count": 87,
     "metadata": {},
     "output_type": "execute_result"
    }
   ],
   "source": [
    "#Train Model\n",
    "lm.fit(x_train_a,y_train_a)"
   ]
  },
  {
   "cell_type": "code",
   "execution_count": 88,
   "metadata": {},
   "outputs": [
    {
     "data": {
      "text/plain": [
       "array([[0.5783122 ],\n",
       "       [0.68330803],\n",
       "       [0.58166075],\n",
       "       ...,\n",
       "       [0.44054287],\n",
       "       [0.5231955 ],\n",
       "       [0.35461302]])"
      ]
     },
     "execution_count": 88,
     "metadata": {},
     "output_type": "execute_result"
    }
   ],
   "source": [
    "#Predictions\n",
    "y_pred_a = lm.predict(x_test_a)\n",
    "y_pred_a"
   ]
  },
  {
   "cell_type": "code",
   "execution_count": 89,
   "metadata": {},
   "outputs": [
    {
     "data": {
      "text/plain": [
       "array([[1.],\n",
       "       [1.],\n",
       "       [1.],\n",
       "       ...,\n",
       "       [0.],\n",
       "       [1.],\n",
       "       [0.]])"
      ]
     },
     "execution_count": 89,
     "metadata": {},
     "output_type": "execute_result"
    }
   ],
   "source": [
    "get_classification(y_pred_a,0.5)"
   ]
  },
  {
   "cell_type": "code",
   "execution_count": 90,
   "metadata": {},
   "outputs": [
    {
     "data": {
      "text/plain": [
       "array([[257, 487],\n",
       "       [213, 768]])"
      ]
     },
     "execution_count": 90,
     "metadata": {},
     "output_type": "execute_result"
    }
   ],
   "source": [
    "confusion_matrix(y_test_a,get_classification(y_pred_a,0.5))"
   ]
  },
  {
   "cell_type": "code",
   "execution_count": 91,
   "metadata": {},
   "outputs": [
    {
     "name": "stdout",
     "output_type": "stream",
     "text": [
      "Given threshold of 0.2 , the model accuracy is 56.87 %.\n",
      "Given threshold of 0.4 , the model accuracy is 58.49 %.\n",
      "Given threshold of 0.5 , the model accuracy is 59.42 %.\n",
      "Given threshold of 0.6 , the model accuracy is 50.09 %.\n",
      "Given threshold of 0.8 , the model accuracy is 43.36 %.\n"
     ]
    }
   ],
   "source": [
    "#try different threshold\n",
    "model_accuracy(y_test_a,y_pred_a,0.2)\n",
    "model_accuracy(y_test_a,y_pred_a,0.4)\n",
    "model_accuracy(y_test_a,y_pred_a,0.5)\n",
    "model_accuracy(y_test_a,y_pred_a,0.6)\n",
    "model_accuracy(y_test_a,y_pred_a,0.8)\n",
    "\n",
    "#threshold of 0.5 gives the best accuracy"
   ]
  },
  {
   "cell_type": "code",
   "execution_count": 92,
   "metadata": {},
   "outputs": [
    {
     "name": "stdout",
     "output_type": "stream",
     "text": [
      "Precision:\t\t\t0.6120 apps identified as high-rating apps are high rating\n",
      "Recall/TPR:\t\t\t0.7829 proportion of high-rating apps correctly identified as high-rating\n",
      "False Positive Rate:\t\t0.6546 proportion of low-rating apps incorrectly identified as high-rating apps\n",
      "f-score:\t\t\t0.6869 tradeoff between precision and recall\n",
      "Accuracy:\t\t\t0.5942 how well the model has classified\n"
     ]
    }
   ],
   "source": [
    "model_eval(y_test_a,y_pred_a,0.5)"
   ]
  },
  {
   "cell_type": "code",
   "execution_count": 93,
   "metadata": {},
   "outputs": [
    {
     "data": {
      "image/png": "[encoded data removed]",
      "text/plain": [
       "<Figure size 432x288 with 1 Axes>"
      ]
     },
     "metadata": {
      "needs_background": "light"
     },
     "output_type": "display_data"
    }
   ],
   "source": [
    "get_roc(y_test_a, y_pred_a)\n",
    "\n",
    "#better than random guessing"
   ]
  },
  {
   "cell_type": "code",
   "execution_count": 94,
   "metadata": {},
   "outputs": [
    {
     "data": {
      "image/png": "[encoded data removed]",
      "text/plain": [
       "<Figure size 432x288 with 1 Axes>"
      ]
     },
     "metadata": {
      "needs_background": "light"
     },
     "output_type": "display_data"
    }
   ],
   "source": [
    "#The precision-recall curve tells us how well we're doing on both factors for different threshold values\n",
    "get_prcurve(y_test_a, y_pred_a)"
   ]
  },
  {
   "cell_type": "markdown",
   "metadata": {},
   "source": [
    "<h2>Google</h2>"
   ]
  },
  {
   "cell_type": "code",
   "execution_count": 95,
   "metadata": {},
   "outputs": [
    {
     "name": "stdout",
     "output_type": "stream",
     "text": [
      "(28, 28) (28, 28)\n"
     ]
    }
   ],
   "source": [
    "print(google_slog.corr().shape,\n",
    "      google_slevel.corr().shape)"
   ]
  },
  {
   "cell_type": "code",
   "execution_count": 96,
   "metadata": {},
   "outputs": [
    {
     "data": {
      "image/png": "[encoded data removed]",
      "text/plain": [
       "<Figure size 432x288 with 1 Axes>"
      ]
     },
     "metadata": {
      "needs_background": "light"
     },
     "output_type": "display_data"
    }
   ],
   "source": [
    "plt.pcolor(google_slog.corr(),cmap='coolwarm') #https://matplotlib.org/examples/color/colormaps_reference.html\n",
    "plt.show()"
   ]
  },
  {
   "cell_type": "code",
   "execution_count": 97,
   "metadata": {},
   "outputs": [
    {
     "data": {
      "image/png": "[encoded data removed]",
      "text/plain": [
       "<Figure size 432x288 with 1 Axes>"
      ]
     },
     "metadata": {
      "needs_background": "light"
     },
     "output_type": "display_data"
    }
   ],
   "source": [
    "plt.pcolor(google_slevel.corr(),cmap='coolwarm') #https://matplotlib.org/examples/color/colormaps_reference.html\n",
    "plt.show()\n",
    "#Again, not much different"
   ]
  },
  {
   "cell_type": "code",
   "execution_count": 98,
   "metadata": {},
   "outputs": [],
   "source": [
    "google = google_slevel"
   ]
  },
  {
   "cell_type": "code",
   "execution_count": 99,
   "metadata": {},
   "outputs": [],
   "source": [
    "#DV: Rating:high-low\n",
    "#IV:price/type, rating count, size_log, category dummies, content dummies\n",
    "\n",
    "train_g, test_g = train_test_split(google, test_size = 0.3)\n",
    "\n",
    "x_train_g = train_g.drop(['rating_high'],axis=1)\n",
    "y_train_g = train_g[['rating_high']]\n",
    "x_test_g = test_g.drop(['rating_high'],axis=1)\n",
    "y_test_g = test_g[['rating_high']]"
   ]
  },
  {
   "cell_type": "code",
   "execution_count": 100,
   "metadata": {},
   "outputs": [],
   "source": [
    "#model & predictions\n",
    "lm.fit(x_train_g,y_train_g)\n",
    "y_pred_g = lm.predict(x_test_g)"
   ]
  },
  {
   "cell_type": "code",
   "execution_count": 101,
   "metadata": {},
   "outputs": [
    {
     "data": {
      "text/plain": [
       "array([[1.],\n",
       "       [1.],\n",
       "       [0.],\n",
       "       ...,\n",
       "       [1.],\n",
       "       [1.],\n",
       "       [1.]])"
      ]
     },
     "execution_count": 101,
     "metadata": {},
     "output_type": "execute_result"
    }
   ],
   "source": [
    "get_classification(y_pred_g,0.5)"
   ]
  },
  {
   "cell_type": "code",
   "execution_count": 102,
   "metadata": {},
   "outputs": [
    {
     "data": {
      "text/plain": [
       "(462, 675, 408, 910)"
      ]
     },
     "execution_count": 102,
     "metadata": {},
     "output_type": "execute_result"
    }
   ],
   "source": [
    "tn, fp, fn, tp = confusion_matrix(y_test_g,get_classification(y_pred_g,0.5)).ravel()\n",
    "tn, fp, fn, tp"
   ]
  },
  {
   "cell_type": "code",
   "execution_count": 103,
   "metadata": {},
   "outputs": [
    {
     "name": "stdout",
     "output_type": "stream",
     "text": [
      "Given threshold of 0.1 , the model accuracy is 53.69 %.\n",
      "Given threshold of 0.2 , the model accuracy is 53.69 %.\n",
      "Given threshold of 0.4 , the model accuracy is 54.38 %.\n",
      "Given threshold of 0.5 , the model accuracy is 55.89 %.\n",
      "Given threshold of 0.6 , the model accuracy is 51.81 %.\n",
      "Given threshold of 0.8 , the model accuracy is 46.6 %.\n"
     ]
    }
   ],
   "source": [
    "#try different threshold\n",
    "model_accuracy(y_test_g,y_pred_g,0.1)\n",
    "model_accuracy(y_test_g,y_pred_g,0.2)\n",
    "model_accuracy(y_test_g,y_pred_g,0.4)\n",
    "model_accuracy(y_test_g,y_pred_g,0.5)\n",
    "model_accuracy(y_test_g,y_pred_g,0.6)\n",
    "model_accuracy(y_test_g,y_pred_g,0.8)\n",
    "\n",
    "#threshold of 0.5 gives the best accuracy"
   ]
  },
  {
   "cell_type": "code",
   "execution_count": 104,
   "metadata": {},
   "outputs": [
    {
     "name": "stdout",
     "output_type": "stream",
     "text": [
      "Precision:\t\t\t0.5741 apps identified as high-rating apps are high rating\n",
      "Recall/TPR:\t\t\t0.6904 proportion of high-rating apps correctly identified as high-rating\n",
      "False Positive Rate:\t\t0.5937 proportion of low-rating apps incorrectly identified as high-rating apps\n",
      "f-score:\t\t\t0.6269 tradeoff between precision and recall\n",
      "Accuracy:\t\t\t0.5589 how well the model has classified\n"
     ]
    }
   ],
   "source": [
    "model_eval(y_test_g,y_pred_g,0.5)"
   ]
  },
  {
   "cell_type": "code",
   "execution_count": 105,
   "metadata": {},
   "outputs": [
    {
     "data": {
      "image/png": "[encoded data removed]",
      "text/plain": [
       "<Figure size 432x288 with 1 Axes>"
      ]
     },
     "metadata": {
      "needs_background": "light"
     },
     "output_type": "display_data"
    }
   ],
   "source": [
    "get_roc(y_test_g, y_pred_g)\n",
    "\n",
    "#better than random guessing"
   ]
  },
  {
   "cell_type": "code",
   "execution_count": 106,
   "metadata": {},
   "outputs": [
    {
     "data": {
      "image/png": "[encoded data removed]",
      "text/plain": [
       "<Figure size 432x288 with 1 Axes>"
      ]
     },
     "metadata": {
      "needs_background": "light"
     },
     "output_type": "display_data"
    }
   ],
   "source": [
    "#The precision-recall curve tells us how well we're doing on both factors for different threshold values\n",
    "get_prcurve(y_test_g, y_pred_g)"
   ]
  },
  {
   "cell_type": "markdown",
   "metadata": {},
   "source": [
    "<h1>Random Forest</h1>"
   ]
  },
  {
   "cell_type": "code",
   "execution_count": 107,
   "metadata": {},
   "outputs": [],
   "source": [
    "from sklearn.ensemble import RandomForestClassifier\n",
    "#start with 10 estimators\n",
    "forest = RandomForestClassifier(n_estimators=10, random_state=29)"
   ]
  },
  {
   "cell_type": "markdown",
   "metadata": {},
   "source": [
    "<h2>Apple</h2>"
   ]
  },
  {
   "cell_type": "code",
   "execution_count": 108,
   "metadata": {},
   "outputs": [],
   "source": [
    "forest_a = forest.fit(x_train_a,np.ravel(y_train_a))"
   ]
  },
  {
   "cell_type": "code",
   "execution_count": 110,
   "metadata": {},
   "outputs": [
    {
     "name": "stdout",
     "output_type": "stream",
     "text": [
      "RandomForest accuracy: 0.549\n"
     ]
    }
   ],
   "source": [
    "print('RandomForest accuracy:', round(forest_a.score(x_test_a,y_test_a),4))"
   ]
  },
  {
   "cell_type": "code",
   "execution_count": 111,
   "metadata": {},
   "outputs": [
    {
     "data": {
      "text/plain": [
       "array([[390, 354],\n",
       "       [424, 557]])"
      ]
     },
     "execution_count": 111,
     "metadata": {},
     "output_type": "execute_result"
    }
   ],
   "source": [
    "y_pred_a2 = forest_a.predict(x_test_a)\n",
    "confusion_matrix(np.ravel(y_test_a),y_pred_a2)"
   ]
  },
  {
   "cell_type": "code",
   "execution_count": 113,
   "metadata": {},
   "outputs": [
    {
     "data": {
      "text/plain": [
       "Text(0.5, 0, 'Relative Importance')"
      ]
     },
     "execution_count": 113,
     "metadata": {},
     "output_type": "execute_result"
    },
    {
     "data": {
      "image/png": "[encoded data removed]",
      "text/plain": [
       "<Figure size 864x864 with 1 Axes>"
      ]
     },
     "metadata": {
      "needs_background": "light"
     },
     "output_type": "display_data"
    }
   ],
   "source": [
    "feature_names_a = [key for key in apple if not key=='rating_high']\n",
    "importances = forest_a.feature_importances_\n",
    "indices = np.argsort(importances)\n",
    "plt.figure(figsize=(12,12))\n",
    "plt.title('Feature Importances for Apple Apps')\n",
    "plt.barh(range(len(indices)), importances[indices], align='center', color='mediumpurple')\n",
    "plt.yticks(range(len(indices)),feature_names_a)\n",
    "plt.xlabel('Relative Importance')"
   ]
  },
  {
   "cell_type": "markdown",
   "metadata": {},
   "source": [
    "<h3>Finding Best Ensemble</h3>"
   ]
  },
  {
   "cell_type": "code",
   "execution_count": 114,
   "metadata": {},
   "outputs": [],
   "source": [
    "from sklearn.model_selection import GridSearchCV"
   ]
  },
  {
   "cell_type": "code",
   "execution_count": 115,
   "metadata": {},
   "outputs": [
    {
     "data": {
      "text/plain": [
       "(0.6156485454538045,\n",
       " {'max_depth': 8,\n",
       "  'min_samples_leaf': 16,\n",
       "  'min_samples_split': 8,\n",
       "  'n_estimators': 30})"
      ]
     },
     "execution_count": 115,
     "metadata": {},
     "output_type": "execute_result"
    }
   ],
   "source": [
    "parameters = {\n",
    "     'n_estimators':(10, 30, 50), #the number of trees\n",
    "     'max_depth':(4,5,6,8,10,15),\n",
    "     'min_samples_split': (2, 4, 8),\n",
    "     'min_samples_leaf': (4,8,12,16)\n",
    "}\n",
    "\n",
    "model = GridSearchCV(RandomForestClassifier(),parameters,cv=3,iid=False)\n",
    "model.fit(x_train_a, np.ravel(y_train_a))\n",
    "model.best_score_, model.best_params_"
   ]
  },
  {
   "cell_type": "code",
   "execution_count": 119,
   "metadata": {},
   "outputs": [
    {
     "data": {
      "text/plain": [
       "array([[323, 421],\n",
       "       [232, 749]])"
      ]
     },
     "execution_count": 119,
     "metadata": {},
     "output_type": "execute_result"
    }
   ],
   "source": [
    "b_model_a = RandomForestClassifier(max_depth=8,min_samples_leaf=16,min_samples_split=8,n_estimators=30,random_state=29)\n",
    "b_model_a.fit(x_train_a,np.ravel(y_train_a))\n",
    "\n",
    "y_pred_a3 = b_model_a.predict(x_test_a)\n",
    "confusion_matrix(np.ravel(y_test_a),y_pred_a3)"
   ]
  },
  {
   "cell_type": "code",
   "execution_count": 130,
   "metadata": {},
   "outputs": [
    {
     "name": "stdout",
     "output_type": "stream",
     "text": [
      "Ensemble RandomForest model accuracy: 0.6214\n"
     ]
    }
   ],
   "source": [
    "print('Ensemble RandomForest model accuracy:', round(b_model_a.score(x_test_a,y_test_a),4))"
   ]
  },
  {
   "cell_type": "code",
   "execution_count": 121,
   "metadata": {},
   "outputs": [
    {
     "data": {
      "text/plain": [
       "Text(0.5, 0, 'Relative Importance')"
      ]
     },
     "execution_count": 121,
     "metadata": {},
     "output_type": "execute_result"
    },
    {
     "data": {
      "image/png": "[encoded data removed]",
      "text/plain": [
       "<Figure size 864x864 with 1 Axes>"
      ]
     },
     "metadata": {
      "needs_background": "light"
     },
     "output_type": "display_data"
    }
   ],
   "source": [
    "# feature_names_a = [key for key in apple if not key=='rating_high']\n",
    "importances = b_model_a.feature_importances_\n",
    "indices = np.argsort(importances)\n",
    "plt.figure(figsize=(12,12))\n",
    "plt.title('Feature Importances for Apple Apps')\n",
    "plt.barh(range(len(indices)), importances[indices], align='center', color='hotpink')\n",
    "plt.yticks(range(len(indices)),feature_names_a)\n",
    "plt.xlabel('Relative Importance')"
   ]
  },
  {
   "cell_type": "markdown",
   "metadata": {},
   "source": [
    "<h2>Google</h2>"
   ]
  },
  {
   "cell_type": "code",
   "execution_count": 122,
   "metadata": {},
   "outputs": [],
   "source": [
    "forest_g = forest.fit(x_train_g,np.ravel(y_train_g))"
   ]
  },
  {
   "cell_type": "code",
   "execution_count": 124,
   "metadata": {},
   "outputs": [
    {
     "name": "stdout",
     "output_type": "stream",
     "text": [
      "RandomForest accuracy: 0.5727\n"
     ]
    }
   ],
   "source": [
    "print('RandomForest accuracy:', round(forest_g.score(x_test_g,np.ravel(y_test_g)),4))\n",
    "#not better than classifier yet"
   ]
  },
  {
   "cell_type": "code",
   "execution_count": 125,
   "metadata": {},
   "outputs": [
    {
     "data": {
      "text/plain": [
       "array([[664, 473],\n",
       "       [576, 742]])"
      ]
     },
     "execution_count": 125,
     "metadata": {},
     "output_type": "execute_result"
    }
   ],
   "source": [
    "y_pred_g2 = forest_g.predict(x_test_g)\n",
    "confusion_matrix(np.ravel(y_test_g),y_pred_g2)"
   ]
  },
  {
   "cell_type": "code",
   "execution_count": 127,
   "metadata": {},
   "outputs": [
    {
     "data": {
      "text/plain": [
       "Text(0.5, 0, 'Relative Importance')"
      ]
     },
     "execution_count": 127,
     "metadata": {},
     "output_type": "execute_result"
    },
    {
     "data": {
      "image/png": "[encoded data removed]",
      "text/plain": [
       "<Figure size 864x864 with 1 Axes>"
      ]
     },
     "metadata": {
      "needs_background": "light"
     },
     "output_type": "display_data"
    }
   ],
   "source": [
    "feature_names_g = [key for key in google if not key=='rating_high']\n",
    "importances = forest_g.feature_importances_\n",
    "indices = np.argsort(importances)\n",
    "plt.figure(figsize=(12,12))\n",
    "plt.title('Feature Importances for Google/Android Apps')\n",
    "plt.barh(range(len(indices)), importances[indices], align='center', color='mediumpurple')\n",
    "plt.yticks(range(len(indices)),feature_names_g)\n",
    "plt.xlabel('Relative Importance')"
   ]
  },
  {
   "cell_type": "markdown",
   "metadata": {},
   "source": [
    "<h3>Finding Best Ensemble</h3>"
   ]
  },
  {
   "cell_type": "code",
   "execution_count": 128,
   "metadata": {},
   "outputs": [
    {
     "data": {
      "text/plain": [
       "(0.6133435391369507,\n",
       " {'max_depth': 10,\n",
       "  'min_samples_leaf': 12,\n",
       "  'min_samples_split': 2,\n",
       "  'n_estimators': 30})"
      ]
     },
     "execution_count": 128,
     "metadata": {},
     "output_type": "execute_result"
    }
   ],
   "source": [
    "parameters = {\n",
    "     'n_estimators':(10, 30, 50), #the number of trees\n",
    "     'max_depth':(4,5,6,8,10,15),\n",
    "     'min_samples_split': (2, 4, 8),\n",
    "     'min_samples_leaf': (4,8,12,16)\n",
    "}\n",
    "\n",
    "model = GridSearchCV(RandomForestClassifier(),parameters,cv=3,iid=False)\n",
    "model.fit(x_train_g, np.ravel(y_train_g))\n",
    "model.best_score_, model.best_params_"
   ]
  },
  {
   "cell_type": "code",
   "execution_count": 129,
   "metadata": {},
   "outputs": [
    {
     "data": {
      "text/plain": [
       "array([[323, 421],\n",
       "       [232, 749]])"
      ]
     },
     "execution_count": 129,
     "metadata": {},
     "output_type": "execute_result"
    }
   ],
   "source": [
    "b_model_g = RandomForestClassifier(max_depth=10,min_samples_leaf=12,min_samples_split=2,n_estimators=30,random_state=29)\n",
    "b_model_g.fit(x_train_g,np.ravel(y_train_g))\n",
    "\n",
    "y_pred_g3 = b_model_a.predict(x_test_a)\n",
    "confusion_matrix(np.ravel(y_test_a),y_pred_a3)"
   ]
  },
  {
   "cell_type": "code",
   "execution_count": 131,
   "metadata": {},
   "outputs": [
    {
     "name": "stdout",
     "output_type": "stream",
     "text": [
      "Ensemble RandomForest model accuracy: 0.613\n"
     ]
    }
   ],
   "source": [
    "print('Ensemble RandomForest model accuracy:', round(b_model_g.score(x_test_g,np.ravel(y_test_g)),4))\n",
    "#better than classifier"
   ]
  },
  {
   "cell_type": "code",
   "execution_count": 132,
   "metadata": {},
   "outputs": [
    {
     "data": {
      "text/plain": [
       "Text(0.5, 0, 'Relative Importance')"
      ]
     },
     "execution_count": 132,
     "metadata": {},
     "output_type": "execute_result"
    },
    {
     "data": {
      "image/png": "[encoded data removed]",
      "text/plain": [
       "<Figure size 864x864 with 1 Axes>"
      ]
     },
     "metadata": {
      "needs_background": "light"
     },
     "output_type": "display_data"
    }
   ],
   "source": [
    "# feature_names_g = [key for key in google if not key=='rating_high']\n",
    "importances = b_model_g.feature_importances_\n",
    "indices = np.argsort(importances)\n",
    "plt.figure(figsize=(12,12))\n",
    "plt.title('Feature Importances for Google/Android Apps')\n",
    "plt.barh(range(len(indices)), importances[indices], align='center', color='hotpink')\n",
    "plt.yticks(range(len(indices)),feature_names_g)\n",
    "plt.xlabel('Relative Importance')"
   ]
  },
  {
   "cell_type": "markdown",
   "metadata": {},
   "source": [
    "<h1>Bootstrapping?</h1>"
   ]
  },
  {
   "cell_type": "code",
   "execution_count": 133,
   "metadata": {},
   "outputs": [],
   "source": [
    "from sklearn.ensemble import BaggingClassifier\n",
    "bag=BaggingClassifier()"
   ]
  },
  {
   "cell_type": "markdown",
   "metadata": {},
   "source": [
    "<h2>Apple</h2>"
   ]
  },
  {
   "cell_type": "code",
   "execution_count": 134,
   "metadata": {},
   "outputs": [],
   "source": [
    "bag_a = bag.fit(x_train_a,np.ravel(y_train_a))"
   ]
  },
  {
   "cell_type": "code",
   "execution_count": 136,
   "metadata": {},
   "outputs": [
    {
     "name": "stdout",
     "output_type": "stream",
     "text": [
      "Bootstrapping model accuracy: 0.5588\n"
     ]
    }
   ],
   "source": [
    "print('Bootstrapping model accuracy:', round(bag_a.score(x_test_a,np.ravel(y_test_a)),4))"
   ]
  },
  {
   "cell_type": "code",
   "execution_count": 137,
   "metadata": {},
   "outputs": [
    {
     "data": {
      "text/plain": [
       "(0.5945330000781646,\n",
       " {'max_features': 20, 'max_samples': 50, 'n_estimators': 30})"
      ]
     },
     "execution_count": 137,
     "metadata": {},
     "output_type": "execute_result"
    }
   ],
   "source": [
    "bag_parameters = {\n",
    "     'n_estimators':(30, 50), #the number of trees\n",
    "     'max_samples':(30,40,50),\n",
    "     'max_features':(5,10,20),\n",
    "     #'oob_score':np.ravel(y_test)\n",
    "     \n",
    "}\n",
    "\n",
    "model = GridSearchCV(BaggingClassifier(),bag_parameters,cv=3,iid=False)\n",
    "model.fit(x_train_a, np.ravel(y_train_a))\n",
    "model.best_score_, model.best_params_"
   ]
  },
  {
   "cell_type": "code",
   "execution_count": 138,
   "metadata": {},
   "outputs": [
    {
     "name": "stdout",
     "output_type": "stream",
     "text": [
      "Model accuracy is: 0.5803\n"
     ]
    }
   ],
   "source": [
    "bag_b_model_a = BaggingClassifier(max_features=20,max_samples=50,n_estimators=30)\n",
    "bag_b_model_a.fit(x_train_a,np.ravel(y_train_a))\n",
    "print(\"Model accuracy is:\", round(bag_b_model_a.score(x_test_a,y_test_a),4))\n",
    "#Not the best model"
   ]
  },
  {
   "cell_type": "markdown",
   "metadata": {},
   "source": [
    "<h2>Google</h2>"
   ]
  },
  {
   "cell_type": "code",
   "execution_count": 139,
   "metadata": {},
   "outputs": [],
   "source": [
    "bag_g = bag.fit(x_train_g,np.ravel(y_train_g))"
   ]
  },
  {
   "cell_type": "code",
   "execution_count": 141,
   "metadata": {},
   "outputs": [
    {
     "name": "stdout",
     "output_type": "stream",
     "text": [
      "Bootstrapping model accuracy: 0.5727\n"
     ]
    }
   ],
   "source": [
    "print('Bootstrapping model accuracy:', round(bag_g.score(x_test_g,np.ravel(y_test_g)),4))\n",
    "#better than classifier, not yet better than forest"
   ]
  },
  {
   "cell_type": "code",
   "execution_count": 142,
   "metadata": {},
   "outputs": [
    {
     "data": {
      "text/plain": [
       "(0.5936069499033414,\n",
       " {'max_features': 20, 'max_samples': 50, 'n_estimators': 50})"
      ]
     },
     "execution_count": 142,
     "metadata": {},
     "output_type": "execute_result"
    }
   ],
   "source": [
    "bag_parameters = {\n",
    "     'n_estimators':(30, 50), #the number of trees\n",
    "     'max_samples':(30,40,50),\n",
    "     'max_features':(5,10,20),\n",
    "     #'oob_score':np.ravel(y_test)\n",
    "     \n",
    "}\n",
    "\n",
    "model = GridSearchCV(BaggingClassifier(),bag_parameters,cv=3,iid=False)\n",
    "model.fit(x_train_g, np.ravel(y_train_g))\n",
    "model.best_score_, model.best_params_"
   ]
  },
  {
   "cell_type": "code",
   "execution_count": 143,
   "metadata": {},
   "outputs": [
    {
     "name": "stdout",
     "output_type": "stream",
     "text": [
      "Model accuracy is: 0.5882\n"
     ]
    }
   ],
   "source": [
    "bag_b_model_g = BaggingClassifier(max_features=20,max_samples=50,n_estimators=50)\n",
    "bag_b_model_g.fit(x_train_g,np.ravel(y_train_g))\n",
    "print(\"Model accuracy is:\", round(bag_b_model_g.score(x_test_g,y_test_g),4))\n",
    "#Not the best either"
   ]
  },
  {
   "cell_type": "code",
   "execution_count": null,
   "metadata": {},
   "outputs": [],
   "source": []
  }
 ],
 "metadata": {
  "kernelspec": {
   "display_name": "Python 3",
   "language": "python",
   "name": "python3"
  },
  "language_info": {
   "codemirror_mode": {
    "name": "ipython",
    "version": 3
   },
   "file_extension": ".py",
   "mimetype": "text/x-python",
   "name": "python",
   "nbconvert_exporter": "python",
   "pygments_lexer": "ipython3",
   "version": "3.7.2"
  }
 },
 "nbformat": 4,
 "nbformat_minor": 2
}
