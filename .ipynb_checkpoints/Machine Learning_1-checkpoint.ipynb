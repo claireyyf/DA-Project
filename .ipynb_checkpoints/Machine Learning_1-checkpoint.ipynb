{
 "cells": [
  {
   "cell_type": "markdown",
   "metadata": {},
   "source": [
    "<h1>Supervised learning since we have data to test on?"
   ]
  },
  {
   "cell_type": "code",
   "execution_count": null,
   "metadata": {},
   "outputs": [],
   "source": [
    "import pandas as pd\n",
    "import numpy as np"
   ]
  },
  {
   "cell_type": "code",
   "execution_count": null,
   "metadata": {},
   "outputs": [],
   "source": [
    "apple = pd.read_csv('apple.csv')\n",
    "apple = apple[apple.columns[1:]]"
   ]
  },
  {
   "cell_type": "code",
   "execution_count": null,
   "metadata": {},
   "outputs": [],
   "source": [
    "apple.info()\n",
    "#need to convert size to float\n",
    "#add \"type\" dummy to match with google dataset"
   ]
  },
  {
   "cell_type": "code",
   "execution_count": null,
   "metadata": {},
   "outputs": [],
   "source": [
    "apple['size'] = apple['size'].apply(lambda x: x.replace(',','') if ',' in str(x) else x).apply(float)"
   ]
  },
  {
   "cell_type": "code",
   "execution_count": null,
   "metadata": {},
   "outputs": [],
   "source": [
    "apple['type'] = np.where(apple['price']==0.00,0,1)\n",
    "#Free: 0\n",
    "#Paid: 1"
   ]
  },
  {
   "cell_type": "code",
   "execution_count": null,
   "metadata": {},
   "outputs": [],
   "source": [
    "apple = apple[['app','size','price','type','category','content','rating','rating_count','rating_ver','rating_count_ver']]"
   ]
  },
  {
   "cell_type": "code",
   "execution_count": null,
   "metadata": {},
   "outputs": [],
   "source": [
    "apple.head()\n",
    "#DV: rating - by version? visualization?\n",
    "#IV: size, price (binary set), category, content, rating count(correlation?)\n",
    "#current version rating"
   ]
  },
  {
   "cell_type": "code",
   "execution_count": null,
   "metadata": {},
   "outputs": [],
   "source": [
    "apple[apple['rating_count_ver']<0.5]"
   ]
  },
  {
   "cell_type": "code",
   "execution_count": null,
   "metadata": {},
   "outputs": [],
   "source": [
    "#1438 rows without rating -> useless\n",
    "apple = apple[apple['rating_count_ver']>0]\n",
    "apple.info()\n",
    "#7189 entries to 5751 entries"
   ]
  },
  {
   "cell_type": "code",
   "execution_count": null,
   "metadata": {},
   "outputs": [],
   "source": [
    "google = pd.read_csv('google.csv')\n",
    "google = google[google.columns[1:]]"
   ]
  },
  {
   "cell_type": "code",
   "execution_count": null,
   "metadata": {},
   "outputs": [],
   "source": [
    "google.info()"
   ]
  },
  {
   "cell_type": "code",
   "execution_count": null,
   "metadata": {},
   "outputs": [],
   "source": [
    "#some sizes are NaN\n",
    "print(google['size'].size)\n",
    "google['size'].count()\n",
    "#about 1000 of them"
   ]
  },
  {
   "cell_type": "code",
   "execution_count": null,
   "metadata": {},
   "outputs": [],
   "source": [
    "google.groupby('type').size()"
   ]
  },
  {
   "cell_type": "code",
   "execution_count": null,
   "metadata": {},
   "outputs": [],
   "source": [
    "#convert type to dummy: Free=0, Paid=1\n",
    "google['type']=np.where(google['type']=='Free',0,1)"
   ]
  },
  {
   "cell_type": "code",
   "execution_count": null,
   "metadata": {},
   "outputs": [],
   "source": [
    "google = google[['app','size','price','type','category','content','rating','rating_count','installs']]"
   ]
  },
  {
   "cell_type": "code",
   "execution_count": null,
   "metadata": {},
   "outputs": [],
   "source": [
    "google.head()\n",
    "#DV could be rating & installs\n",
    "#IV: size, price (binary as well), category, content, type\n",
    "#adjust for rating_count?"
   ]
  },
  {
   "cell_type": "code",
   "execution_count": null,
   "metadata": {},
   "outputs": [],
   "source": [
    "googlereviews = pd.read_csv('googlereviews.csv')\n",
    "googlereviews = googlereviews[googlereviews.columns[1:]]\n",
    "googlereviews.head()"
   ]
  },
  {
   "cell_type": "code",
   "execution_count": null,
   "metadata": {},
   "outputs": [],
   "source": [
    "%matplotlib inline\n",
    "import matplotlib.pyplot as plt\n",
    "import seaborn as sns\n",
    "plt.style.use('seaborn')"
   ]
  },
  {
   "cell_type": "code",
   "execution_count": null,
   "metadata": {},
   "outputs": [],
   "source": [
    "plt.scatter(apple['price'], apple['rating'], s=2)\n",
    "plt.xlabel('price')\n",
    "plt.ylabel('rating')\n",
    "\n",
    "plt.show()"
   ]
  },
  {
   "cell_type": "code",
   "execution_count": null,
   "metadata": {},
   "outputs": [],
   "source": [
    "plt.scatter(google['price'], google['rating'], s=2)\n",
    "plt.xlabel('price')\n",
    "plt.ylabel('rating')\n",
    "\n",
    "plt.show()"
   ]
  },
  {
   "cell_type": "code",
   "execution_count": null,
   "metadata": {},
   "outputs": [],
   "source": [
    "apple[apple.price > 50]"
   ]
  },
  {
   "cell_type": "code",
   "execution_count": null,
   "metadata": {},
   "outputs": [],
   "source": [
    "google[google.price>50]\n",
    "#based on the app names, most the extremely apps could be counted as 'useless' outliers"
   ]
  },
  {
   "cell_type": "code",
   "execution_count": null,
   "metadata": {},
   "outputs": [],
   "source": [
    "#take out price outliers\n",
    "apple = apple[apple['price']<=50]\n",
    "google = google[google['price']<=50]"
   ]
  },
  {
   "cell_type": "code",
   "execution_count": null,
   "metadata": {},
   "outputs": [],
   "source": [
    "print(apple.info())\n",
    "google.info()"
   ]
  },
  {
   "cell_type": "markdown",
   "metadata": {},
   "source": [
    "<h1>Regression</h1>\n",
    "<li>predict rating: apple & google</li>\n",
    "<li>by category</li>"
   ]
  },
  {
   "cell_type": "code",
   "execution_count": null,
   "metadata": {},
   "outputs": [],
   "source": [
    "from sklearn import linear_model "
   ]
  },
  {
   "cell_type": "code",
   "execution_count": null,
   "metadata": {},
   "outputs": [],
   "source": [
    "#Divide dataset into different categories"
   ]
  },
  {
   "cell_type": "code",
   "execution_count": null,
   "metadata": {},
   "outputs": [],
   "source": [
    "#apple\n",
    "\n",
    "train, test = train_test_split(apple, test_size = 0.3) #30% as test set\n",
    "x_train = train.iloc[0:,0:60]\n",
    "y_train = train[60] #single out the output feature\n",
    "x_test = test.iloc[0:,0:60]\n",
    "y_test = test[60]\n",
    "y_train #trained result by index"
   ]
  },
  {
   "cell_type": "markdown",
   "metadata": {},
   "source": [
    "<h1>Overall Forest</h1>\n",
    "should we do horizontal grouping? we don't have many features - <b>ensemble learning random forest</b>"
   ]
  },
  {
   "cell_type": "code",
   "execution_count": null,
   "metadata": {},
   "outputs": [],
   "source": [
    "# !pip install sklearn --upgrade"
   ]
  },
  {
   "cell_type": "code",
   "execution_count": null,
   "metadata": {},
   "outputs": [],
   "source": [
    "from sklearn.model_selection import train_test_split"
   ]
  },
  {
   "cell_type": "code",
   "execution_count": null,
   "metadata": {},
   "outputs": [],
   "source": [
    "from sklearn.tree import DecisionTreeRegressor\n",
    "from sklearn import tree"
   ]
  },
  {
   "cell_type": "code",
   "execution_count": null,
   "metadata": {},
   "outputs": [],
   "source": [
    "model = tree.DecisionTreeRegressor(random_state=1)\n",
    "#model = DecisionTreeRegressor(max_depth = 3)"
   ]
  },
  {
   "cell_type": "code",
   "execution_count": null,
   "metadata": {},
   "outputs": [],
   "source": [
    "# !pip install pydotplus --upgrade"
   ]
  },
  {
   "cell_type": "code",
   "execution_count": null,
   "metadata": {},
   "outputs": [],
   "source": [
    "#tree visualization\n",
    "from IPython.display import Image\n",
    "import pydotplus"
   ]
  },
  {
   "cell_type": "markdown",
   "metadata": {},
   "source": [
    "<h4>create dummies</h4>"
   ]
  },
  {
   "cell_type": "code",
   "execution_count": null,
   "metadata": {},
   "outputs": [],
   "source": [
    "print(list(apple['category'].unique()))\n",
    "type(apple['category'].unique()[0])"
   ]
  },
  {
   "cell_type": "code",
   "execution_count": null,
   "metadata": {},
   "outputs": [],
   "source": [
    "for i in apple['category'].unique():\n",
    "    name = 'dummy_'+i\n",
    "    apple[name] = np.where(apple['category']==i,1,0)"
   ]
  },
  {
   "cell_type": "code",
   "execution_count": null,
   "metadata": {},
   "outputs": [],
   "source": [
    "print(apple['content'].unique())\n",
    "type(apple['content'].unique()[0])"
   ]
  },
  {
   "cell_type": "code",
   "execution_count": null,
   "metadata": {},
   "outputs": [],
   "source": [
    "for i in apple['content'].unique():\n",
    "    name = 'dummy_content_'+i\n",
    "    apple[name] = np.where(apple['category']==i,1,0)"
   ]
  },
  {
   "cell_type": "code",
   "execution_count": null,
   "metadata": {},
   "outputs": [],
   "source": [
    "print(google['category'].unique())\n",
    "type(google['category'].unique()[0])"
   ]
  },
  {
   "cell_type": "code",
   "execution_count": null,
   "metadata": {},
   "outputs": [],
   "source": [
    "for i in google['category'].unique():\n",
    "    name = 'dummy_'+i\n",
    "    google[name] = np.where(google['category']==i,1,0)"
   ]
  },
  {
   "cell_type": "code",
   "execution_count": null,
   "metadata": {},
   "outputs": [],
   "source": [
    "print(google['content'].unique())\n",
    "type(google['content'].unique()[0])"
   ]
  },
  {
   "cell_type": "code",
   "execution_count": null,
   "metadata": {},
   "outputs": [],
   "source": [
    "for i in google['content'].unique():\n",
    "    name = 'dummy_content_'+i\n",
    "    google[name] = np.where(google['content']==i,1,0)"
   ]
  },
  {
   "cell_type": "markdown",
   "metadata": {},
   "source": [
    "<h4><i>Maybe, </i>Popularity is also related to apps' name length</h4>"
   ]
  },
  {
   "cell_type": "code",
   "execution_count": null,
   "metadata": {},
   "outputs": [],
   "source": [
    "apple['app_name_len']=apple['app'].apply(lambda x: len(x))\n",
    "apple.head()"
   ]
  },
  {
   "cell_type": "code",
   "execution_count": null,
   "metadata": {},
   "outputs": [],
   "source": [
    "google['app_name_len']=google['app'].apply(lambda x: len(x))\n",
    "google.head()"
   ]
  },
  {
   "cell_type": "markdown",
   "metadata": {},
   "source": [
    "<h2>Apple</h2>"
   ]
  },
  {
   "cell_type": "code",
   "execution_count": null,
   "metadata": {},
   "outputs": [],
   "source": [
    "apple_index_dict = dict()\n",
    "apple_keys = range(len(apple.columns))\n",
    "apple_values = list(apple.columns)\n",
    "for i in apple_keys:\n",
    "    apple_index_dict[i]=apple_values[i]\n",
    "\n",
    "apple_index_dict"
   ]
  },
  {
   "cell_type": "code",
   "execution_count": null,
   "metadata": {},
   "outputs": [],
   "source": [
    "#Rating as DV\n",
    "#IV: size, price, rating count(??), category, content, length of name(??)\n",
    "#should not have price and type together as they directly correlate with one another\n",
    "\n",
    "train_a, test_a = train_test_split(apple, test_size = 0.3)\n"
   ]
  },
  {
   "cell_type": "code",
   "execution_count": null,
   "metadata": {},
   "outputs": [],
   "source": [
    "x_train_a = train_a.iloc[0:,[1,2,3,7,\n",
    "                              10,11,12,13,14,15,16,17,18,19,\n",
    "                              20,21,22,23,24,25,26,27,28,29,\n",
    "                              30,31,32,33,34]]\n",
    "y_train_a = train_a[['rating']]\n",
    "x_test_a = test_a.iloc[0:,[1,2,3,7,\n",
    "                              10,11,12,13,14,15,16,17,18,19,\n",
    "                              20,21,22,23,24,25,26,27,28,29,\n",
    "                              30,31,32,33,34]]\n",
    "y_test_a = test_a[['rating']]"
   ]
  },
  {
   "cell_type": "code",
   "execution_count": null,
   "metadata": {},
   "outputs": [],
   "source": [
    "x_train_a1.head()"
   ]
  },
  {
   "cell_type": "code",
   "execution_count": null,
   "metadata": {},
   "outputs": [],
   "source": [
    "model.fit(x_train_a1,y_train_a1)"
   ]
  },
  {
   "cell_type": "code",
   "execution_count": null,
   "metadata": {},
   "outputs": [],
   "source": [
    "feature_names = ['size','price','rating count',\n",
    "                 'Games', 'Productivity', 'Weather', 'Shopping', 'Books & Reference', 'Finance', \n",
    "                 'Entertainment', 'Utilities', 'Travel', 'Social Networking', 'Sports', 'Business', \n",
    "                 'Health & Fitness', 'Photo & Video', 'Navigation', 'Education', 'Lifestyle', \n",
    "                 'Food & Drink', 'News', 'Medical',\n",
    "                 '4+','12+','17+','9+',\n",
    "                 'name length']\n",
    "# from IPython.display import Image\n",
    "dot_data = tree.export_graphviz(model, out_file=None,feature_names=feature_names)\n",
    "# import pydotplus\n",
    "\n",
    "graph = pydotplus.graphviz.graph_from_dot_data(dot_data)\n",
    "\n",
    "Image(graph.create_png())\n",
    "\n",
    "#Need to figure out how to convert back the dummies\n",
    "#Manually draw the tree elsewhere?"
   ]
  },
  {
   "cell_type": "markdown",
   "metadata": {},
   "source": [
    "<h2>Google</h2>"
   ]
  },
  {
   "cell_type": "code",
   "execution_count": null,
   "metadata": {},
   "outputs": [],
   "source": [
    "google_index_dict = dict()\n",
    "google_keys = range(len(google.columns))\n",
    "google_values = list(google.columns)\n",
    "for i in google_keys:\n",
    "    google_index_dict[i]=google_values[i]\n",
    "\n",
    "google_index_dict"
   ]
  },
  {
   "cell_type": "code",
   "execution_count": null,
   "metadata": {},
   "outputs": [],
   "source": [
    "google.head()"
   ]
  },
  {
   "cell_type": "code",
   "execution_count": null,
   "metadata": {},
   "outputs": [],
   "source": [
    "#Rating & Installs as DV's\n",
    "#IV: size, price/type, category, content\n",
    "#should not have price and type together as they directly correlate with one another\n",
    "\n",
    "train_g, test_g = train_test_split(google, test_size = 0.3)"
   ]
  },
  {
   "cell_type": "markdown",
   "metadata": {},
   "source": [
    "<h3>Price --> Rating</h3>"
   ]
  },
  {
   "cell_type": "code",
   "execution_count": null,
   "metadata": {},
   "outputs": [],
   "source": [
    "\"\"\"Price & Rating\"\"\"\n",
    "#size, price, category, rating\n",
    "\n",
    "x_train_g1 = train_g.iloc[0:,[1,2,9,10]]\n",
    "y_train_g1 = train_g[['rating']]\n",
    "x_test_g1 = test_g.iloc[0:,[1,2,9,10]]\n",
    "y_test_g1 = test_g[['rating']]"
   ]
  },
  {
   "cell_type": "code",
   "execution_count": null,
   "metadata": {},
   "outputs": [],
   "source": [
    "x_train_g1.head()"
   ]
  },
  {
   "cell_type": "markdown",
   "metadata": {},
   "source": [
    "<h3>Price Type --> Rating"
   ]
  },
  {
   "cell_type": "code",
   "execution_count": null,
   "metadata": {},
   "outputs": [],
   "source": [
    "\"\"\"Type & Rating\"\"\"\n",
    "x_train_g2 = train_g.iloc[0:,[1,9,10,11]]\n",
    "y_train_g2 = train_g[['rating']]\n",
    "x_test_g2 = test_g.iloc[0:,[1,9,10,11]]\n",
    "y_test_g2 = test_g[['rating']]"
   ]
  },
  {
   "cell_type": "code",
   "execution_count": null,
   "metadata": {},
   "outputs": [],
   "source": [
    "x_train_g2.head()"
   ]
  }
 ],
 "metadata": {
  "kernelspec": {
   "display_name": "Python 2",
   "language": "python",
   "name": "python2"
  },
  "language_info": {
   "codemirror_mode": {
    "name": "ipython",
    "version": 2
   },
   "file_extension": ".py",
   "mimetype": "text/x-python",
   "name": "python",
   "nbconvert_exporter": "python",
   "pygments_lexer": "ipython2",
   "version": "2.7.16"
  }
 },
 "nbformat": 4,
 "nbformat_minor": 2
}
